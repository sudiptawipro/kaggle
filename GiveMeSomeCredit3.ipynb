{
 "cells": [
  {
   "cell_type": "code",
   "execution_count": 9,
   "metadata": {
    "collapsed": true
   },
   "outputs": [],
   "source": [
    "import pandas as pd\n",
    "import numpy as np\n",
    "import matplotlib.pyplot as plt\n",
    "from sklearn import tree, metrics,cross_validation,preprocessing\n",
    "from sklearn.cross_validation import train_test_split\n",
    "import seaborn as sns\n",
    "from sklearn.feature_selection import VarianceThreshold\n",
    "from sklearn.linear_model import LogisticRegression\n",
    "from sklearn.grid_search import GridSearchCV\n",
    "from time import time\n",
    "from operator import itemgetter\n",
    "from sklearn.tree import DecisionTreeClassifier\n",
    "import re"
   ]
  },
  {
   "cell_type": "code",
   "execution_count": 66,
   "metadata": {
    "collapsed": true
   },
   "outputs": [],
   "source": [
    "%matplotlib inline"
   ]
  },
  {
   "cell_type": "code",
   "execution_count": 67,
   "metadata": {
    "collapsed": true
   },
   "outputs": [],
   "source": [
    "df=pd.read_csv('C://Users//Sudipta//Desktop//ML//acadgild//pycodes//loan credit//cs-training.csv',',')"
   ]
  },
  {
   "cell_type": "code",
   "execution_count": 13,
   "metadata": {
    "collapsed": false
   },
   "outputs": [
    {
     "data": {
      "text/plain": [
       "<matplotlib.axes._subplots.AxesSubplot at 0x1cf725b0390>"
      ]
     },
     "execution_count": 13,
     "metadata": {},
     "output_type": "execute_result"
    },
    {
     "data": {
      "image/png": "[encoded data removed]",
      "text/plain": [
       "<Figure size 432x288 with 1 Axes>"
      ]
     },
     "metadata": {},
     "output_type": "display_data"
    }
   ],
   "source": [
    "pd.value_counts(df.NumberOfDependents).plot(kind='bar')"
   ]
  },
  {
   "cell_type": "code",
   "execution_count": 14,
   "metadata": {
    "collapsed": false
   },
   "outputs": [
    {
     "data": {
      "text/html": [
       "<div>\n",
       "<style>\n",
       "    .dataframe thead tr:only-child th {\n",
       "        text-align: right;\n",
       "    }\n",
       "\n",
       "    .dataframe thead th {\n",
       "        text-align: left;\n",
       "    }\n",
       "\n",
       "    .dataframe tbody tr th {\n",
       "        vertical-align: top;\n",
       "    }\n",
       "</style>\n",
       "<table border=\"1\" class=\"dataframe\">\n",
       "  <thead>\n",
       "    <tr style=\"text-align: right;\">\n",
       "      <th>SeriousDlqin2yrs</th>\n",
       "      <th>0</th>\n",
       "      <th>1</th>\n",
       "    </tr>\n",
       "    <tr>\n",
       "      <th>NumberOfDependents</th>\n",
       "      <th></th>\n",
       "      <th></th>\n",
       "    </tr>\n",
       "  </thead>\n",
       "  <tbody>\n",
       "    <tr>\n",
       "      <th>0.0</th>\n",
       "      <td>81807</td>\n",
       "      <td>5095</td>\n",
       "    </tr>\n",
       "    <tr>\n",
       "      <th>1.0</th>\n",
       "      <td>24381</td>\n",
       "      <td>1935</td>\n",
       "    </tr>\n",
       "    <tr>\n",
       "      <th>2.0</th>\n",
       "      <td>17938</td>\n",
       "      <td>1584</td>\n",
       "    </tr>\n",
       "    <tr>\n",
       "      <th>3.0</th>\n",
       "      <td>8646</td>\n",
       "      <td>837</td>\n",
       "    </tr>\n",
       "    <tr>\n",
       "      <th>4.0</th>\n",
       "      <td>2565</td>\n",
       "      <td>297</td>\n",
       "    </tr>\n",
       "    <tr>\n",
       "      <th>5.0</th>\n",
       "      <td>678</td>\n",
       "      <td>68</td>\n",
       "    </tr>\n",
       "    <tr>\n",
       "      <th>6.0</th>\n",
       "      <td>134</td>\n",
       "      <td>24</td>\n",
       "    </tr>\n",
       "    <tr>\n",
       "      <th>7.0</th>\n",
       "      <td>46</td>\n",
       "      <td>5</td>\n",
       "    </tr>\n",
       "    <tr>\n",
       "      <th>8.0</th>\n",
       "      <td>22</td>\n",
       "      <td>2</td>\n",
       "    </tr>\n",
       "    <tr>\n",
       "      <th>9.0</th>\n",
       "      <td>5</td>\n",
       "      <td>0</td>\n",
       "    </tr>\n",
       "    <tr>\n",
       "      <th>10.0</th>\n",
       "      <td>5</td>\n",
       "      <td>0</td>\n",
       "    </tr>\n",
       "    <tr>\n",
       "      <th>13.0</th>\n",
       "      <td>1</td>\n",
       "      <td>0</td>\n",
       "    </tr>\n",
       "    <tr>\n",
       "      <th>20.0</th>\n",
       "      <td>1</td>\n",
       "      <td>0</td>\n",
       "    </tr>\n",
       "  </tbody>\n",
       "</table>\n",
       "</div>"
      ],
      "text/plain": [
       "SeriousDlqin2yrs        0     1\n",
       "NumberOfDependents             \n",
       "0.0                 81807  5095\n",
       "1.0                 24381  1935\n",
       "2.0                 17938  1584\n",
       "3.0                  8646   837\n",
       "4.0                  2565   297\n",
       "5.0                   678    68\n",
       "6.0                   134    24\n",
       "7.0                    46     5\n",
       "8.0                    22     2\n",
       "9.0                     5     0\n",
       "10.0                    5     0\n",
       "13.0                    1     0\n",
       "20.0                    1     0"
      ]
     },
     "execution_count": 14,
     "metadata": {},
     "output_type": "execute_result"
    }
   ],
   "source": [
    "pd.crosstab(df.NumberOfDependents, df.SeriousDlqin2yrs)"
   ]
  },
  {
   "cell_type": "code",
   "execution_count": 15,
   "metadata": {
    "collapsed": false
   },
   "outputs": [
    {
     "data": {
      "text/html": [
       "<div>\n",
       "<style>\n",
       "    .dataframe thead tr:only-child th {\n",
       "        text-align: right;\n",
       "    }\n",
       "\n",
       "    .dataframe thead th {\n",
       "        text-align: left;\n",
       "    }\n",
       "\n",
       "    .dataframe tbody tr th {\n",
       "        vertical-align: top;\n",
       "    }\n",
       "</style>\n",
       "<table border=\"1\" class=\"dataframe\">\n",
       "  <thead>\n",
       "    <tr style=\"text-align: right;\">\n",
       "      <th>NumberOfDependents</th>\n",
       "      <th>0.0</th>\n",
       "      <th>1.0</th>\n",
       "      <th>2.0</th>\n",
       "      <th>3.0</th>\n",
       "      <th>4.0</th>\n",
       "      <th>5.0</th>\n",
       "      <th>6.0</th>\n",
       "      <th>7.0</th>\n",
       "      <th>8.0</th>\n",
       "      <th>9.0</th>\n",
       "      <th>10.0</th>\n",
       "      <th>13.0</th>\n",
       "      <th>20.0</th>\n",
       "    </tr>\n",
       "    <tr>\n",
       "      <th>age</th>\n",
       "      <th></th>\n",
       "      <th></th>\n",
       "      <th></th>\n",
       "      <th></th>\n",
       "      <th></th>\n",
       "      <th></th>\n",
       "      <th></th>\n",
       "      <th></th>\n",
       "      <th></th>\n",
       "      <th></th>\n",
       "      <th></th>\n",
       "      <th></th>\n",
       "      <th></th>\n",
       "    </tr>\n",
       "  </thead>\n",
       "  <tbody>\n",
       "    <tr>\n",
       "      <th>0</th>\n",
       "      <td>0</td>\n",
       "      <td>0</td>\n",
       "      <td>1</td>\n",
       "      <td>0</td>\n",
       "      <td>0</td>\n",
       "      <td>0</td>\n",
       "      <td>0</td>\n",
       "      <td>0</td>\n",
       "      <td>0</td>\n",
       "      <td>0</td>\n",
       "      <td>0</td>\n",
       "      <td>0</td>\n",
       "      <td>0</td>\n",
       "    </tr>\n",
       "    <tr>\n",
       "      <th>21</th>\n",
       "      <td>148</td>\n",
       "      <td>3</td>\n",
       "      <td>1</td>\n",
       "      <td>0</td>\n",
       "      <td>0</td>\n",
       "      <td>0</td>\n",
       "      <td>0</td>\n",
       "      <td>0</td>\n",
       "      <td>0</td>\n",
       "      <td>0</td>\n",
       "      <td>0</td>\n",
       "      <td>0</td>\n",
       "      <td>0</td>\n",
       "    </tr>\n",
       "    <tr>\n",
       "      <th>22</th>\n",
       "      <td>385</td>\n",
       "      <td>7</td>\n",
       "      <td>2</td>\n",
       "      <td>2</td>\n",
       "      <td>0</td>\n",
       "      <td>0</td>\n",
       "      <td>0</td>\n",
       "      <td>0</td>\n",
       "      <td>0</td>\n",
       "      <td>0</td>\n",
       "      <td>0</td>\n",
       "      <td>0</td>\n",
       "      <td>0</td>\n",
       "    </tr>\n",
       "    <tr>\n",
       "      <th>23</th>\n",
       "      <td>550</td>\n",
       "      <td>33</td>\n",
       "      <td>13</td>\n",
       "      <td>3</td>\n",
       "      <td>0</td>\n",
       "      <td>0</td>\n",
       "      <td>0</td>\n",
       "      <td>0</td>\n",
       "      <td>0</td>\n",
       "      <td>0</td>\n",
       "      <td>0</td>\n",
       "      <td>0</td>\n",
       "      <td>0</td>\n",
       "    </tr>\n",
       "    <tr>\n",
       "      <th>24</th>\n",
       "      <td>689</td>\n",
       "      <td>48</td>\n",
       "      <td>19</td>\n",
       "      <td>3</td>\n",
       "      <td>1</td>\n",
       "      <td>0</td>\n",
       "      <td>0</td>\n",
       "      <td>0</td>\n",
       "      <td>0</td>\n",
       "      <td>0</td>\n",
       "      <td>0</td>\n",
       "      <td>0</td>\n",
       "      <td>0</td>\n",
       "    </tr>\n",
       "    <tr>\n",
       "      <th>25</th>\n",
       "      <td>774</td>\n",
       "      <td>91</td>\n",
       "      <td>31</td>\n",
       "      <td>7</td>\n",
       "      <td>5</td>\n",
       "      <td>1</td>\n",
       "      <td>0</td>\n",
       "      <td>0</td>\n",
       "      <td>0</td>\n",
       "      <td>0</td>\n",
       "      <td>0</td>\n",
       "      <td>0</td>\n",
       "      <td>0</td>\n",
       "    </tr>\n",
       "    <tr>\n",
       "      <th>26</th>\n",
       "      <td>946</td>\n",
       "      <td>128</td>\n",
       "      <td>56</td>\n",
       "      <td>14</td>\n",
       "      <td>4</td>\n",
       "      <td>0</td>\n",
       "      <td>0</td>\n",
       "      <td>0</td>\n",
       "      <td>0</td>\n",
       "      <td>0</td>\n",
       "      <td>0</td>\n",
       "      <td>0</td>\n",
       "      <td>0</td>\n",
       "    </tr>\n",
       "    <tr>\n",
       "      <th>27</th>\n",
       "      <td>1001</td>\n",
       "      <td>192</td>\n",
       "      <td>53</td>\n",
       "      <td>32</td>\n",
       "      <td>4</td>\n",
       "      <td>0</td>\n",
       "      <td>0</td>\n",
       "      <td>0</td>\n",
       "      <td>0</td>\n",
       "      <td>0</td>\n",
       "      <td>0</td>\n",
       "      <td>0</td>\n",
       "      <td>0</td>\n",
       "    </tr>\n",
       "    <tr>\n",
       "      <th>28</th>\n",
       "      <td>1142</td>\n",
       "      <td>210</td>\n",
       "      <td>114</td>\n",
       "      <td>45</td>\n",
       "      <td>8</td>\n",
       "      <td>1</td>\n",
       "      <td>0</td>\n",
       "      <td>0</td>\n",
       "      <td>0</td>\n",
       "      <td>0</td>\n",
       "      <td>0</td>\n",
       "      <td>0</td>\n",
       "      <td>0</td>\n",
       "    </tr>\n",
       "    <tr>\n",
       "      <th>29</th>\n",
       "      <td>1195</td>\n",
       "      <td>254</td>\n",
       "      <td>145</td>\n",
       "      <td>53</td>\n",
       "      <td>14</td>\n",
       "      <td>1</td>\n",
       "      <td>1</td>\n",
       "      <td>0</td>\n",
       "      <td>0</td>\n",
       "      <td>0</td>\n",
       "      <td>0</td>\n",
       "      <td>0</td>\n",
       "      <td>0</td>\n",
       "    </tr>\n",
       "    <tr>\n",
       "      <th>30</th>\n",
       "      <td>1337</td>\n",
       "      <td>288</td>\n",
       "      <td>178</td>\n",
       "      <td>72</td>\n",
       "      <td>14</td>\n",
       "      <td>7</td>\n",
       "      <td>1</td>\n",
       "      <td>1</td>\n",
       "      <td>0</td>\n",
       "      <td>0</td>\n",
       "      <td>0</td>\n",
       "      <td>0</td>\n",
       "      <td>0</td>\n",
       "    </tr>\n",
       "    <tr>\n",
       "      <th>31</th>\n",
       "      <td>1314</td>\n",
       "      <td>344</td>\n",
       "      <td>245</td>\n",
       "      <td>91</td>\n",
       "      <td>18</td>\n",
       "      <td>4</td>\n",
       "      <td>0</td>\n",
       "      <td>0</td>\n",
       "      <td>0</td>\n",
       "      <td>0</td>\n",
       "      <td>0</td>\n",
       "      <td>0</td>\n",
       "      <td>0</td>\n",
       "    </tr>\n",
       "    <tr>\n",
       "      <th>32</th>\n",
       "      <td>1207</td>\n",
       "      <td>380</td>\n",
       "      <td>275</td>\n",
       "      <td>106</td>\n",
       "      <td>53</td>\n",
       "      <td>3</td>\n",
       "      <td>0</td>\n",
       "      <td>0</td>\n",
       "      <td>0</td>\n",
       "      <td>0</td>\n",
       "      <td>0</td>\n",
       "      <td>0</td>\n",
       "      <td>0</td>\n",
       "    </tr>\n",
       "    <tr>\n",
       "      <th>33</th>\n",
       "      <td>1254</td>\n",
       "      <td>449</td>\n",
       "      <td>315</td>\n",
       "      <td>140</td>\n",
       "      <td>50</td>\n",
       "      <td>10</td>\n",
       "      <td>2</td>\n",
       "      <td>0</td>\n",
       "      <td>0</td>\n",
       "      <td>0</td>\n",
       "      <td>0</td>\n",
       "      <td>0</td>\n",
       "      <td>0</td>\n",
       "    </tr>\n",
       "    <tr>\n",
       "      <th>34</th>\n",
       "      <td>1152</td>\n",
       "      <td>389</td>\n",
       "      <td>360</td>\n",
       "      <td>145</td>\n",
       "      <td>65</td>\n",
       "      <td>11</td>\n",
       "      <td>1</td>\n",
       "      <td>0</td>\n",
       "      <td>0</td>\n",
       "      <td>0</td>\n",
       "      <td>0</td>\n",
       "      <td>0</td>\n",
       "      <td>0</td>\n",
       "    </tr>\n",
       "    <tr>\n",
       "      <th>35</th>\n",
       "      <td>1136</td>\n",
       "      <td>418</td>\n",
       "      <td>398</td>\n",
       "      <td>184</td>\n",
       "      <td>58</td>\n",
       "      <td>15</td>\n",
       "      <td>3</td>\n",
       "      <td>1</td>\n",
       "      <td>1</td>\n",
       "      <td>0</td>\n",
       "      <td>0</td>\n",
       "      <td>0</td>\n",
       "      <td>0</td>\n",
       "    </tr>\n",
       "    <tr>\n",
       "      <th>36</th>\n",
       "      <td>1139</td>\n",
       "      <td>445</td>\n",
       "      <td>486</td>\n",
       "      <td>202</td>\n",
       "      <td>50</td>\n",
       "      <td>15</td>\n",
       "      <td>5</td>\n",
       "      <td>1</td>\n",
       "      <td>0</td>\n",
       "      <td>0</td>\n",
       "      <td>0</td>\n",
       "      <td>0</td>\n",
       "      <td>0</td>\n",
       "    </tr>\n",
       "    <tr>\n",
       "      <th>37</th>\n",
       "      <td>1088</td>\n",
       "      <td>488</td>\n",
       "      <td>541</td>\n",
       "      <td>274</td>\n",
       "      <td>77</td>\n",
       "      <td>18</td>\n",
       "      <td>2</td>\n",
       "      <td>0</td>\n",
       "      <td>0</td>\n",
       "      <td>1</td>\n",
       "      <td>0</td>\n",
       "      <td>0</td>\n",
       "      <td>0</td>\n",
       "    </tr>\n",
       "    <tr>\n",
       "      <th>38</th>\n",
       "      <td>1113</td>\n",
       "      <td>484</td>\n",
       "      <td>604</td>\n",
       "      <td>283</td>\n",
       "      <td>84</td>\n",
       "      <td>26</td>\n",
       "      <td>3</td>\n",
       "      <td>0</td>\n",
       "      <td>1</td>\n",
       "      <td>1</td>\n",
       "      <td>0</td>\n",
       "      <td>0</td>\n",
       "      <td>0</td>\n",
       "    </tr>\n",
       "    <tr>\n",
       "      <th>39</th>\n",
       "      <td>1202</td>\n",
       "      <td>544</td>\n",
       "      <td>691</td>\n",
       "      <td>383</td>\n",
       "      <td>111</td>\n",
       "      <td>27</td>\n",
       "      <td>4</td>\n",
       "      <td>1</td>\n",
       "      <td>1</td>\n",
       "      <td>0</td>\n",
       "      <td>1</td>\n",
       "      <td>0</td>\n",
       "      <td>0</td>\n",
       "    </tr>\n",
       "    <tr>\n",
       "      <th>40</th>\n",
       "      <td>1185</td>\n",
       "      <td>570</td>\n",
       "      <td>758</td>\n",
       "      <td>391</td>\n",
       "      <td>104</td>\n",
       "      <td>43</td>\n",
       "      <td>5</td>\n",
       "      <td>1</td>\n",
       "      <td>1</td>\n",
       "      <td>0</td>\n",
       "      <td>0</td>\n",
       "      <td>0</td>\n",
       "      <td>1</td>\n",
       "    </tr>\n",
       "    <tr>\n",
       "      <th>41</th>\n",
       "      <td>1193</td>\n",
       "      <td>517</td>\n",
       "      <td>791</td>\n",
       "      <td>445</td>\n",
       "      <td>113</td>\n",
       "      <td>30</td>\n",
       "      <td>4</td>\n",
       "      <td>0</td>\n",
       "      <td>1</td>\n",
       "      <td>0</td>\n",
       "      <td>0</td>\n",
       "      <td>0</td>\n",
       "      <td>0</td>\n",
       "    </tr>\n",
       "    <tr>\n",
       "      <th>42</th>\n",
       "      <td>1159</td>\n",
       "      <td>526</td>\n",
       "      <td>755</td>\n",
       "      <td>427</td>\n",
       "      <td>142</td>\n",
       "      <td>38</td>\n",
       "      <td>7</td>\n",
       "      <td>2</td>\n",
       "      <td>0</td>\n",
       "      <td>0</td>\n",
       "      <td>0</td>\n",
       "      <td>0</td>\n",
       "      <td>0</td>\n",
       "    </tr>\n",
       "    <tr>\n",
       "      <th>43</th>\n",
       "      <td>1205</td>\n",
       "      <td>556</td>\n",
       "      <td>789</td>\n",
       "      <td>431</td>\n",
       "      <td>156</td>\n",
       "      <td>33</td>\n",
       "      <td>9</td>\n",
       "      <td>4</td>\n",
       "      <td>1</td>\n",
       "      <td>0</td>\n",
       "      <td>1</td>\n",
       "      <td>0</td>\n",
       "      <td>0</td>\n",
       "    </tr>\n",
       "    <tr>\n",
       "      <th>44</th>\n",
       "      <td>1209</td>\n",
       "      <td>574</td>\n",
       "      <td>854</td>\n",
       "      <td>461</td>\n",
       "      <td>133</td>\n",
       "      <td>32</td>\n",
       "      <td>7</td>\n",
       "      <td>2</td>\n",
       "      <td>1</td>\n",
       "      <td>0</td>\n",
       "      <td>1</td>\n",
       "      <td>0</td>\n",
       "      <td>0</td>\n",
       "    </tr>\n",
       "    <tr>\n",
       "      <th>45</th>\n",
       "      <td>1363</td>\n",
       "      <td>608</td>\n",
       "      <td>828</td>\n",
       "      <td>457</td>\n",
       "      <td>165</td>\n",
       "      <td>35</td>\n",
       "      <td>11</td>\n",
       "      <td>3</td>\n",
       "      <td>0</td>\n",
       "      <td>0</td>\n",
       "      <td>0</td>\n",
       "      <td>0</td>\n",
       "      <td>0</td>\n",
       "    </tr>\n",
       "    <tr>\n",
       "      <th>46</th>\n",
       "      <td>1373</td>\n",
       "      <td>695</td>\n",
       "      <td>876</td>\n",
       "      <td>498</td>\n",
       "      <td>165</td>\n",
       "      <td>35</td>\n",
       "      <td>8</td>\n",
       "      <td>8</td>\n",
       "      <td>2</td>\n",
       "      <td>0</td>\n",
       "      <td>0</td>\n",
       "      <td>0</td>\n",
       "      <td>0</td>\n",
       "    </tr>\n",
       "    <tr>\n",
       "      <th>47</th>\n",
       "      <td>1439</td>\n",
       "      <td>672</td>\n",
       "      <td>863</td>\n",
       "      <td>491</td>\n",
       "      <td>148</td>\n",
       "      <td>46</td>\n",
       "      <td>9</td>\n",
       "      <td>0</td>\n",
       "      <td>2</td>\n",
       "      <td>0</td>\n",
       "      <td>1</td>\n",
       "      <td>0</td>\n",
       "      <td>0</td>\n",
       "    </tr>\n",
       "    <tr>\n",
       "      <th>48</th>\n",
       "      <td>1509</td>\n",
       "      <td>771</td>\n",
       "      <td>791</td>\n",
       "      <td>459</td>\n",
       "      <td>157</td>\n",
       "      <td>37</td>\n",
       "      <td>11</td>\n",
       "      <td>3</td>\n",
       "      <td>1</td>\n",
       "      <td>2</td>\n",
       "      <td>0</td>\n",
       "      <td>0</td>\n",
       "      <td>0</td>\n",
       "    </tr>\n",
       "    <tr>\n",
       "      <th>49</th>\n",
       "      <td>1632</td>\n",
       "      <td>717</td>\n",
       "      <td>790</td>\n",
       "      <td>439</td>\n",
       "      <td>143</td>\n",
       "      <td>46</td>\n",
       "      <td>8</td>\n",
       "      <td>6</td>\n",
       "      <td>1</td>\n",
       "      <td>0</td>\n",
       "      <td>0</td>\n",
       "      <td>0</td>\n",
       "      <td>0</td>\n",
       "    </tr>\n",
       "    <tr>\n",
       "      <th>...</th>\n",
       "      <td>...</td>\n",
       "      <td>...</td>\n",
       "      <td>...</td>\n",
       "      <td>...</td>\n",
       "      <td>...</td>\n",
       "      <td>...</td>\n",
       "      <td>...</td>\n",
       "      <td>...</td>\n",
       "      <td>...</td>\n",
       "      <td>...</td>\n",
       "      <td>...</td>\n",
       "      <td>...</td>\n",
       "      <td>...</td>\n",
       "    </tr>\n",
       "    <tr>\n",
       "      <th>74</th>\n",
       "      <td>1164</td>\n",
       "      <td>184</td>\n",
       "      <td>23</td>\n",
       "      <td>4</td>\n",
       "      <td>2</td>\n",
       "      <td>0</td>\n",
       "      <td>0</td>\n",
       "      <td>1</td>\n",
       "      <td>1</td>\n",
       "      <td>0</td>\n",
       "      <td>0</td>\n",
       "      <td>0</td>\n",
       "      <td>0</td>\n",
       "    </tr>\n",
       "    <tr>\n",
       "      <th>75</th>\n",
       "      <td>981</td>\n",
       "      <td>167</td>\n",
       "      <td>17</td>\n",
       "      <td>3</td>\n",
       "      <td>0</td>\n",
       "      <td>0</td>\n",
       "      <td>0</td>\n",
       "      <td>0</td>\n",
       "      <td>0</td>\n",
       "      <td>0</td>\n",
       "      <td>0</td>\n",
       "      <td>0</td>\n",
       "      <td>0</td>\n",
       "    </tr>\n",
       "    <tr>\n",
       "      <th>76</th>\n",
       "      <td>933</td>\n",
       "      <td>165</td>\n",
       "      <td>16</td>\n",
       "      <td>0</td>\n",
       "      <td>0</td>\n",
       "      <td>0</td>\n",
       "      <td>0</td>\n",
       "      <td>0</td>\n",
       "      <td>0</td>\n",
       "      <td>0</td>\n",
       "      <td>0</td>\n",
       "      <td>0</td>\n",
       "      <td>0</td>\n",
       "    </tr>\n",
       "    <tr>\n",
       "      <th>77</th>\n",
       "      <td>890</td>\n",
       "      <td>129</td>\n",
       "      <td>11</td>\n",
       "      <td>2</td>\n",
       "      <td>0</td>\n",
       "      <td>0</td>\n",
       "      <td>0</td>\n",
       "      <td>0</td>\n",
       "      <td>0</td>\n",
       "      <td>0</td>\n",
       "      <td>0</td>\n",
       "      <td>0</td>\n",
       "      <td>0</td>\n",
       "    </tr>\n",
       "    <tr>\n",
       "      <th>78</th>\n",
       "      <td>837</td>\n",
       "      <td>137</td>\n",
       "      <td>13</td>\n",
       "      <td>2</td>\n",
       "      <td>1</td>\n",
       "      <td>0</td>\n",
       "      <td>0</td>\n",
       "      <td>0</td>\n",
       "      <td>0</td>\n",
       "      <td>0</td>\n",
       "      <td>0</td>\n",
       "      <td>0</td>\n",
       "      <td>0</td>\n",
       "    </tr>\n",
       "    <tr>\n",
       "      <th>79</th>\n",
       "      <td>770</td>\n",
       "      <td>131</td>\n",
       "      <td>10</td>\n",
       "      <td>4</td>\n",
       "      <td>0</td>\n",
       "      <td>0</td>\n",
       "      <td>0</td>\n",
       "      <td>0</td>\n",
       "      <td>0</td>\n",
       "      <td>0</td>\n",
       "      <td>0</td>\n",
       "      <td>0</td>\n",
       "      <td>0</td>\n",
       "    </tr>\n",
       "    <tr>\n",
       "      <th>80</th>\n",
       "      <td>704</td>\n",
       "      <td>109</td>\n",
       "      <td>7</td>\n",
       "      <td>2</td>\n",
       "      <td>0</td>\n",
       "      <td>0</td>\n",
       "      <td>0</td>\n",
       "      <td>0</td>\n",
       "      <td>0</td>\n",
       "      <td>0</td>\n",
       "      <td>0</td>\n",
       "      <td>0</td>\n",
       "      <td>0</td>\n",
       "    </tr>\n",
       "    <tr>\n",
       "      <th>81</th>\n",
       "      <td>629</td>\n",
       "      <td>76</td>\n",
       "      <td>6</td>\n",
       "      <td>1</td>\n",
       "      <td>0</td>\n",
       "      <td>0</td>\n",
       "      <td>0</td>\n",
       "      <td>0</td>\n",
       "      <td>0</td>\n",
       "      <td>0</td>\n",
       "      <td>0</td>\n",
       "      <td>0</td>\n",
       "      <td>0</td>\n",
       "    </tr>\n",
       "    <tr>\n",
       "      <th>82</th>\n",
       "      <td>527</td>\n",
       "      <td>69</td>\n",
       "      <td>1</td>\n",
       "      <td>0</td>\n",
       "      <td>1</td>\n",
       "      <td>0</td>\n",
       "      <td>0</td>\n",
       "      <td>0</td>\n",
       "      <td>0</td>\n",
       "      <td>0</td>\n",
       "      <td>0</td>\n",
       "      <td>0</td>\n",
       "      <td>0</td>\n",
       "    </tr>\n",
       "    <tr>\n",
       "      <th>83</th>\n",
       "      <td>417</td>\n",
       "      <td>44</td>\n",
       "      <td>2</td>\n",
       "      <td>0</td>\n",
       "      <td>0</td>\n",
       "      <td>0</td>\n",
       "      <td>0</td>\n",
       "      <td>0</td>\n",
       "      <td>0</td>\n",
       "      <td>0</td>\n",
       "      <td>0</td>\n",
       "      <td>0</td>\n",
       "      <td>0</td>\n",
       "    </tr>\n",
       "    <tr>\n",
       "      <th>84</th>\n",
       "      <td>406</td>\n",
       "      <td>32</td>\n",
       "      <td>1</td>\n",
       "      <td>0</td>\n",
       "      <td>0</td>\n",
       "      <td>0</td>\n",
       "      <td>0</td>\n",
       "      <td>0</td>\n",
       "      <td>0</td>\n",
       "      <td>0</td>\n",
       "      <td>0</td>\n",
       "      <td>0</td>\n",
       "      <td>0</td>\n",
       "    </tr>\n",
       "    <tr>\n",
       "      <th>85</th>\n",
       "      <td>403</td>\n",
       "      <td>30</td>\n",
       "      <td>2</td>\n",
       "      <td>0</td>\n",
       "      <td>0</td>\n",
       "      <td>0</td>\n",
       "      <td>0</td>\n",
       "      <td>0</td>\n",
       "      <td>0</td>\n",
       "      <td>0</td>\n",
       "      <td>0</td>\n",
       "      <td>0</td>\n",
       "      <td>0</td>\n",
       "    </tr>\n",
       "    <tr>\n",
       "      <th>86</th>\n",
       "      <td>318</td>\n",
       "      <td>46</td>\n",
       "      <td>2</td>\n",
       "      <td>0</td>\n",
       "      <td>1</td>\n",
       "      <td>0</td>\n",
       "      <td>0</td>\n",
       "      <td>0</td>\n",
       "      <td>0</td>\n",
       "      <td>0</td>\n",
       "      <td>0</td>\n",
       "      <td>0</td>\n",
       "      <td>0</td>\n",
       "    </tr>\n",
       "    <tr>\n",
       "      <th>87</th>\n",
       "      <td>279</td>\n",
       "      <td>29</td>\n",
       "      <td>1</td>\n",
       "      <td>1</td>\n",
       "      <td>0</td>\n",
       "      <td>0</td>\n",
       "      <td>0</td>\n",
       "      <td>0</td>\n",
       "      <td>0</td>\n",
       "      <td>0</td>\n",
       "      <td>0</td>\n",
       "      <td>0</td>\n",
       "      <td>0</td>\n",
       "    </tr>\n",
       "    <tr>\n",
       "      <th>88</th>\n",
       "      <td>244</td>\n",
       "      <td>20</td>\n",
       "      <td>1</td>\n",
       "      <td>0</td>\n",
       "      <td>0</td>\n",
       "      <td>0</td>\n",
       "      <td>0</td>\n",
       "      <td>0</td>\n",
       "      <td>0</td>\n",
       "      <td>0</td>\n",
       "      <td>0</td>\n",
       "      <td>0</td>\n",
       "      <td>0</td>\n",
       "    </tr>\n",
       "    <tr>\n",
       "      <th>89</th>\n",
       "      <td>230</td>\n",
       "      <td>11</td>\n",
       "      <td>1</td>\n",
       "      <td>0</td>\n",
       "      <td>0</td>\n",
       "      <td>0</td>\n",
       "      <td>0</td>\n",
       "      <td>0</td>\n",
       "      <td>0</td>\n",
       "      <td>0</td>\n",
       "      <td>0</td>\n",
       "      <td>0</td>\n",
       "      <td>0</td>\n",
       "    </tr>\n",
       "    <tr>\n",
       "      <th>90</th>\n",
       "      <td>148</td>\n",
       "      <td>19</td>\n",
       "      <td>0</td>\n",
       "      <td>0</td>\n",
       "      <td>0</td>\n",
       "      <td>0</td>\n",
       "      <td>0</td>\n",
       "      <td>0</td>\n",
       "      <td>0</td>\n",
       "      <td>0</td>\n",
       "      <td>0</td>\n",
       "      <td>0</td>\n",
       "      <td>0</td>\n",
       "    </tr>\n",
       "    <tr>\n",
       "      <th>91</th>\n",
       "      <td>119</td>\n",
       "      <td>10</td>\n",
       "      <td>0</td>\n",
       "      <td>0</td>\n",
       "      <td>0</td>\n",
       "      <td>0</td>\n",
       "      <td>0</td>\n",
       "      <td>0</td>\n",
       "      <td>0</td>\n",
       "      <td>0</td>\n",
       "      <td>0</td>\n",
       "      <td>0</td>\n",
       "      <td>0</td>\n",
       "    </tr>\n",
       "    <tr>\n",
       "      <th>92</th>\n",
       "      <td>75</td>\n",
       "      <td>7</td>\n",
       "      <td>0</td>\n",
       "      <td>0</td>\n",
       "      <td>0</td>\n",
       "      <td>0</td>\n",
       "      <td>0</td>\n",
       "      <td>0</td>\n",
       "      <td>0</td>\n",
       "      <td>0</td>\n",
       "      <td>0</td>\n",
       "      <td>0</td>\n",
       "      <td>0</td>\n",
       "    </tr>\n",
       "    <tr>\n",
       "      <th>93</th>\n",
       "      <td>67</td>\n",
       "      <td>3</td>\n",
       "      <td>0</td>\n",
       "      <td>0</td>\n",
       "      <td>0</td>\n",
       "      <td>0</td>\n",
       "      <td>0</td>\n",
       "      <td>0</td>\n",
       "      <td>0</td>\n",
       "      <td>0</td>\n",
       "      <td>0</td>\n",
       "      <td>0</td>\n",
       "      <td>0</td>\n",
       "    </tr>\n",
       "    <tr>\n",
       "      <th>94</th>\n",
       "      <td>33</td>\n",
       "      <td>2</td>\n",
       "      <td>0</td>\n",
       "      <td>0</td>\n",
       "      <td>0</td>\n",
       "      <td>0</td>\n",
       "      <td>0</td>\n",
       "      <td>0</td>\n",
       "      <td>0</td>\n",
       "      <td>0</td>\n",
       "      <td>0</td>\n",
       "      <td>0</td>\n",
       "      <td>0</td>\n",
       "    </tr>\n",
       "    <tr>\n",
       "      <th>95</th>\n",
       "      <td>33</td>\n",
       "      <td>4</td>\n",
       "      <td>0</td>\n",
       "      <td>0</td>\n",
       "      <td>0</td>\n",
       "      <td>0</td>\n",
       "      <td>0</td>\n",
       "      <td>0</td>\n",
       "      <td>0</td>\n",
       "      <td>0</td>\n",
       "      <td>0</td>\n",
       "      <td>0</td>\n",
       "      <td>0</td>\n",
       "    </tr>\n",
       "    <tr>\n",
       "      <th>96</th>\n",
       "      <td>12</td>\n",
       "      <td>2</td>\n",
       "      <td>0</td>\n",
       "      <td>0</td>\n",
       "      <td>0</td>\n",
       "      <td>0</td>\n",
       "      <td>0</td>\n",
       "      <td>0</td>\n",
       "      <td>0</td>\n",
       "      <td>0</td>\n",
       "      <td>0</td>\n",
       "      <td>0</td>\n",
       "      <td>0</td>\n",
       "    </tr>\n",
       "    <tr>\n",
       "      <th>97</th>\n",
       "      <td>11</td>\n",
       "      <td>1</td>\n",
       "      <td>0</td>\n",
       "      <td>0</td>\n",
       "      <td>0</td>\n",
       "      <td>0</td>\n",
       "      <td>0</td>\n",
       "      <td>0</td>\n",
       "      <td>0</td>\n",
       "      <td>0</td>\n",
       "      <td>0</td>\n",
       "      <td>0</td>\n",
       "      <td>0</td>\n",
       "    </tr>\n",
       "    <tr>\n",
       "      <th>98</th>\n",
       "      <td>5</td>\n",
       "      <td>0</td>\n",
       "      <td>0</td>\n",
       "      <td>0</td>\n",
       "      <td>0</td>\n",
       "      <td>0</td>\n",
       "      <td>0</td>\n",
       "      <td>0</td>\n",
       "      <td>0</td>\n",
       "      <td>0</td>\n",
       "      <td>0</td>\n",
       "      <td>0</td>\n",
       "      <td>0</td>\n",
       "    </tr>\n",
       "    <tr>\n",
       "      <th>99</th>\n",
       "      <td>5</td>\n",
       "      <td>0</td>\n",
       "      <td>0</td>\n",
       "      <td>0</td>\n",
       "      <td>0</td>\n",
       "      <td>0</td>\n",
       "      <td>0</td>\n",
       "      <td>0</td>\n",
       "      <td>0</td>\n",
       "      <td>0</td>\n",
       "      <td>0</td>\n",
       "      <td>0</td>\n",
       "      <td>0</td>\n",
       "    </tr>\n",
       "    <tr>\n",
       "      <th>101</th>\n",
       "      <td>3</td>\n",
       "      <td>0</td>\n",
       "      <td>0</td>\n",
       "      <td>0</td>\n",
       "      <td>0</td>\n",
       "      <td>0</td>\n",
       "      <td>0</td>\n",
       "      <td>0</td>\n",
       "      <td>0</td>\n",
       "      <td>0</td>\n",
       "      <td>0</td>\n",
       "      <td>0</td>\n",
       "      <td>0</td>\n",
       "    </tr>\n",
       "    <tr>\n",
       "      <th>102</th>\n",
       "      <td>2</td>\n",
       "      <td>1</td>\n",
       "      <td>0</td>\n",
       "      <td>0</td>\n",
       "      <td>0</td>\n",
       "      <td>0</td>\n",
       "      <td>0</td>\n",
       "      <td>0</td>\n",
       "      <td>0</td>\n",
       "      <td>0</td>\n",
       "      <td>0</td>\n",
       "      <td>0</td>\n",
       "      <td>0</td>\n",
       "    </tr>\n",
       "    <tr>\n",
       "      <th>103</th>\n",
       "      <td>3</td>\n",
       "      <td>0</td>\n",
       "      <td>0</td>\n",
       "      <td>0</td>\n",
       "      <td>0</td>\n",
       "      <td>0</td>\n",
       "      <td>0</td>\n",
       "      <td>0</td>\n",
       "      <td>0</td>\n",
       "      <td>0</td>\n",
       "      <td>0</td>\n",
       "      <td>0</td>\n",
       "      <td>0</td>\n",
       "    </tr>\n",
       "    <tr>\n",
       "      <th>107</th>\n",
       "      <td>1</td>\n",
       "      <td>0</td>\n",
       "      <td>0</td>\n",
       "      <td>0</td>\n",
       "      <td>0</td>\n",
       "      <td>0</td>\n",
       "      <td>0</td>\n",
       "      <td>0</td>\n",
       "      <td>0</td>\n",
       "      <td>0</td>\n",
       "      <td>0</td>\n",
       "      <td>0</td>\n",
       "      <td>0</td>\n",
       "    </tr>\n",
       "  </tbody>\n",
       "</table>\n",
       "<p>84 rows × 13 columns</p>\n",
       "</div>"
      ],
      "text/plain": [
       "NumberOfDependents  0.0   1.0   2.0   3.0   4.0   5.0   6.0   7.0   8.0   \\\n",
       "age                                                                        \n",
       "0                      0     0     1     0     0     0     0     0     0   \n",
       "21                   148     3     1     0     0     0     0     0     0   \n",
       "22                   385     7     2     2     0     0     0     0     0   \n",
       "23                   550    33    13     3     0     0     0     0     0   \n",
       "24                   689    48    19     3     1     0     0     0     0   \n",
       "25                   774    91    31     7     5     1     0     0     0   \n",
       "26                   946   128    56    14     4     0     0     0     0   \n",
       "27                  1001   192    53    32     4     0     0     0     0   \n",
       "28                  1142   210   114    45     8     1     0     0     0   \n",
       "29                  1195   254   145    53    14     1     1     0     0   \n",
       "30                  1337   288   178    72    14     7     1     1     0   \n",
       "31                  1314   344   245    91    18     4     0     0     0   \n",
       "32                  1207   380   275   106    53     3     0     0     0   \n",
       "33                  1254   449   315   140    50    10     2     0     0   \n",
       "34                  1152   389   360   145    65    11     1     0     0   \n",
       "35                  1136   418   398   184    58    15     3     1     1   \n",
       "36                  1139   445   486   202    50    15     5     1     0   \n",
       "37                  1088   488   541   274    77    18     2     0     0   \n",
       "38                  1113   484   604   283    84    26     3     0     1   \n",
       "39                  1202   544   691   383   111    27     4     1     1   \n",
       "40                  1185   570   758   391   104    43     5     1     1   \n",
       "41                  1193   517   791   445   113    30     4     0     1   \n",
       "42                  1159   526   755   427   142    38     7     2     0   \n",
       "43                  1205   556   789   431   156    33     9     4     1   \n",
       "44                  1209   574   854   461   133    32     7     2     1   \n",
       "45                  1363   608   828   457   165    35    11     3     0   \n",
       "46                  1373   695   876   498   165    35     8     8     2   \n",
       "47                  1439   672   863   491   148    46     9     0     2   \n",
       "48                  1509   771   791   459   157    37    11     3     1   \n",
       "49                  1632   717   790   439   143    46     8     6     1   \n",
       "..                   ...   ...   ...   ...   ...   ...   ...   ...   ...   \n",
       "74                  1164   184    23     4     2     0     0     1     1   \n",
       "75                   981   167    17     3     0     0     0     0     0   \n",
       "76                   933   165    16     0     0     0     0     0     0   \n",
       "77                   890   129    11     2     0     0     0     0     0   \n",
       "78                   837   137    13     2     1     0     0     0     0   \n",
       "79                   770   131    10     4     0     0     0     0     0   \n",
       "80                   704   109     7     2     0     0     0     0     0   \n",
       "81                   629    76     6     1     0     0     0     0     0   \n",
       "82                   527    69     1     0     1     0     0     0     0   \n",
       "83                   417    44     2     0     0     0     0     0     0   \n",
       "84                   406    32     1     0     0     0     0     0     0   \n",
       "85                   403    30     2     0     0     0     0     0     0   \n",
       "86                   318    46     2     0     1     0     0     0     0   \n",
       "87                   279    29     1     1     0     0     0     0     0   \n",
       "88                   244    20     1     0     0     0     0     0     0   \n",
       "89                   230    11     1     0     0     0     0     0     0   \n",
       "90                   148    19     0     0     0     0     0     0     0   \n",
       "91                   119    10     0     0     0     0     0     0     0   \n",
       "92                    75     7     0     0     0     0     0     0     0   \n",
       "93                    67     3     0     0     0     0     0     0     0   \n",
       "94                    33     2     0     0     0     0     0     0     0   \n",
       "95                    33     4     0     0     0     0     0     0     0   \n",
       "96                    12     2     0     0     0     0     0     0     0   \n",
       "97                    11     1     0     0     0     0     0     0     0   \n",
       "98                     5     0     0     0     0     0     0     0     0   \n",
       "99                     5     0     0     0     0     0     0     0     0   \n",
       "101                    3     0     0     0     0     0     0     0     0   \n",
       "102                    2     1     0     0     0     0     0     0     0   \n",
       "103                    3     0     0     0     0     0     0     0     0   \n",
       "107                    1     0     0     0     0     0     0     0     0   \n",
       "\n",
       "NumberOfDependents  9.0   10.0  13.0  20.0  \n",
       "age                                         \n",
       "0                      0     0     0     0  \n",
       "21                     0     0     0     0  \n",
       "22                     0     0     0     0  \n",
       "23                     0     0     0     0  \n",
       "24                     0     0     0     0  \n",
       "25                     0     0     0     0  \n",
       "26                     0     0     0     0  \n",
       "27                     0     0     0     0  \n",
       "28                     0     0     0     0  \n",
       "29                     0     0     0     0  \n",
       "30                     0     0     0     0  \n",
       "31                     0     0     0     0  \n",
       "32                     0     0     0     0  \n",
       "33                     0     0     0     0  \n",
       "34                     0     0     0     0  \n",
       "35                     0     0     0     0  \n",
       "36                     0     0     0     0  \n",
       "37                     1     0     0     0  \n",
       "38                     1     0     0     0  \n",
       "39                     0     1     0     0  \n",
       "40                     0     0     0     1  \n",
       "41                     0     0     0     0  \n",
       "42                     0     0     0     0  \n",
       "43                     0     1     0     0  \n",
       "44                     0     1     0     0  \n",
       "45                     0     0     0     0  \n",
       "46                     0     0     0     0  \n",
       "47                     0     1     0     0  \n",
       "48                     2     0     0     0  \n",
       "49                     0     0     0     0  \n",
       "..                   ...   ...   ...   ...  \n",
       "74                     0     0     0     0  \n",
       "75                     0     0     0     0  \n",
       "76                     0     0     0     0  \n",
       "77                     0     0     0     0  \n",
       "78                     0     0     0     0  \n",
       "79                     0     0     0     0  \n",
       "80                     0     0     0     0  \n",
       "81                     0     0     0     0  \n",
       "82                     0     0     0     0  \n",
       "83                     0     0     0     0  \n",
       "84                     0     0     0     0  \n",
       "85                     0     0     0     0  \n",
       "86                     0     0     0     0  \n",
       "87                     0     0     0     0  \n",
       "88                     0     0     0     0  \n",
       "89                     0     0     0     0  \n",
       "90                     0     0     0     0  \n",
       "91                     0     0     0     0  \n",
       "92                     0     0     0     0  \n",
       "93                     0     0     0     0  \n",
       "94                     0     0     0     0  \n",
       "95                     0     0     0     0  \n",
       "96                     0     0     0     0  \n",
       "97                     0     0     0     0  \n",
       "98                     0     0     0     0  \n",
       "99                     0     0     0     0  \n",
       "101                    0     0     0     0  \n",
       "102                    0     0     0     0  \n",
       "103                    0     0     0     0  \n",
       "107                    0     0     0     0  \n",
       "\n",
       "[84 rows x 13 columns]"
      ]
     },
     "execution_count": 15,
     "metadata": {},
     "output_type": "execute_result"
    }
   ],
   "source": [
    "pd.crosstab(df.age, df.NumberOfDependents)"
   ]
  },
  {
   "cell_type": "code",
   "execution_count": 68,
   "metadata": {
    "collapsed": true
   },
   "outputs": [],
   "source": [
    "def camel_to_snake(column_name):\n",
    "    \"\"\"\n",
    "    converts a string that is camelCase into snake_case\n",
    "    Example:\n",
    "        print camel_to_snake(\"javaLovesCamelCase\")\n",
    "        > java_loves_camel_case\n",
    "    See Also:\n",
    "        http://stackoverflow.com/questions/1175208/elegant-python-function-to-convert-camelcase-to-camel-case\n",
    "    \"\"\"\n",
    "    s1 = re.sub('(.)([A-Z][a-z]+)', r'\\1_\\2', column_name)\n",
    "    return re.sub('([a-z0-9])([A-Z])', r'\\1_\\2', s1).lower()"
   ]
  },
  {
   "cell_type": "code",
   "execution_count": 69,
   "metadata": {
    "collapsed": false
   },
   "outputs": [
    {
     "data": {
      "text/plain": [
       "['unnamed: 0',\n",
       " 'serious_dlqin2yrs',\n",
       " 'revolving_utilization_of_unsecured_lines',\n",
       " 'age',\n",
       " 'number_of_time30-59_days_past_due_not_worse',\n",
       " 'debt_ratio',\n",
       " 'monthly_income',\n",
       " 'number_of_open_credit_lines_and_loans',\n",
       " 'number_of_times90_days_late',\n",
       " 'number_real_estate_loans_or_lines',\n",
       " 'number_of_time60-89_days_past_due_not_worse',\n",
       " 'number_of_dependents']"
      ]
     },
     "execution_count": 69,
     "metadata": {},
     "output_type": "execute_result"
    }
   ],
   "source": [
    "df.columns = [camel_to_snake(col) for col in df.columns]\n",
    "df.columns.tolist()"
   ]
  },
  {
   "cell_type": "code",
   "execution_count": 23,
   "metadata": {
    "collapsed": false
   },
   "outputs": [
    {
     "data": {
      "text/plain": [
       "3544"
      ]
     },
     "execution_count": 23,
     "metadata": {},
     "output_type": "execute_result"
    }
   ],
   "source": [
    "mask = (df.monthly_income > 5000) & (df.serious_dlqin2yrs==1)\n",
    "len(df[mask])"
   ]
  },
  {
   "cell_type": "code",
   "execution_count": 26,
   "metadata": {
    "collapsed": true
   },
   "outputs": [],
   "source": [
    "melted = pd.melt(df,id_vars=['serious_dlqin2yrs'],value_vars=['age'])"
   ]
  },
  {
   "cell_type": "code",
   "execution_count": 37,
   "metadata": {
    "collapsed": false
   },
   "outputs": [
    {
     "data": {
      "text/plain": [
       "pandas.core.frame.DataFrame"
      ]
     },
     "execution_count": 37,
     "metadata": {},
     "output_type": "execute_result"
    }
   ],
   "source": [
    "type(melted)"
   ]
  },
  {
   "cell_type": "code",
   "execution_count": 49,
   "metadata": {
    "collapsed": false
   },
   "outputs": [],
   "source": [
    "mask = (melted['serious_dlqin2yrs'] == 1) & (df['age'] < 30)"
   ]
  },
  {
   "cell_type": "code",
   "execution_count": 50,
   "metadata": {
    "collapsed": false
   },
   "outputs": [
    {
     "data": {
      "text/plain": [
       "1035"
      ]
     },
     "execution_count": 50,
     "metadata": {},
     "output_type": "execute_result"
    }
   ],
   "source": [
    "len(melted[mask])"
   ]
  },
  {
   "cell_type": "code",
   "execution_count": 51,
   "metadata": {
    "collapsed": true
   },
   "outputs": [
    {
     "data": {
      "text/html": [
       "<div>\n",
       "<style>\n",
       "    .dataframe thead tr:only-child th {\n",
       "        text-align: right;\n",
       "    }\n",
       "\n",
       "    .dataframe thead th {\n",
       "        text-align: left;\n",
       "    }\n",
       "\n",
       "    .dataframe tbody tr th {\n",
       "        vertical-align: top;\n",
       "    }\n",
       "</style>\n",
       "<table border=\"1\" class=\"dataframe\">\n",
       "  <thead>\n",
       "    <tr style=\"text-align: right;\">\n",
       "      <th></th>\n",
       "      <th>serious_dlqin2yrs</th>\n",
       "      <th>variable</th>\n",
       "      <th>value</th>\n",
       "    </tr>\n",
       "  </thead>\n",
       "  <tbody>\n",
       "    <tr>\n",
       "      <th>0</th>\n",
       "      <td>1</td>\n",
       "      <td>age</td>\n",
       "      <td>45</td>\n",
       "    </tr>\n",
       "    <tr>\n",
       "      <th>1</th>\n",
       "      <td>0</td>\n",
       "      <td>age</td>\n",
       "      <td>40</td>\n",
       "    </tr>\n",
       "    <tr>\n",
       "      <th>2</th>\n",
       "      <td>0</td>\n",
       "      <td>age</td>\n",
       "      <td>38</td>\n",
       "    </tr>\n",
       "    <tr>\n",
       "      <th>3</th>\n",
       "      <td>0</td>\n",
       "      <td>age</td>\n",
       "      <td>30</td>\n",
       "    </tr>\n",
       "    <tr>\n",
       "      <th>4</th>\n",
       "      <td>0</td>\n",
       "      <td>age</td>\n",
       "      <td>49</td>\n",
       "    </tr>\n",
       "    <tr>\n",
       "      <th>5</th>\n",
       "      <td>0</td>\n",
       "      <td>age</td>\n",
       "      <td>74</td>\n",
       "    </tr>\n",
       "    <tr>\n",
       "      <th>6</th>\n",
       "      <td>0</td>\n",
       "      <td>age</td>\n",
       "      <td>57</td>\n",
       "    </tr>\n",
       "    <tr>\n",
       "      <th>7</th>\n",
       "      <td>0</td>\n",
       "      <td>age</td>\n",
       "      <td>39</td>\n",
       "    </tr>\n",
       "    <tr>\n",
       "      <th>8</th>\n",
       "      <td>0</td>\n",
       "      <td>age</td>\n",
       "      <td>27</td>\n",
       "    </tr>\n",
       "    <tr>\n",
       "      <th>9</th>\n",
       "      <td>0</td>\n",
       "      <td>age</td>\n",
       "      <td>57</td>\n",
       "    </tr>\n",
       "    <tr>\n",
       "      <th>10</th>\n",
       "      <td>0</td>\n",
       "      <td>age</td>\n",
       "      <td>30</td>\n",
       "    </tr>\n",
       "    <tr>\n",
       "      <th>11</th>\n",
       "      <td>0</td>\n",
       "      <td>age</td>\n",
       "      <td>51</td>\n",
       "    </tr>\n",
       "    <tr>\n",
       "      <th>12</th>\n",
       "      <td>0</td>\n",
       "      <td>age</td>\n",
       "      <td>46</td>\n",
       "    </tr>\n",
       "    <tr>\n",
       "      <th>13</th>\n",
       "      <td>1</td>\n",
       "      <td>age</td>\n",
       "      <td>40</td>\n",
       "    </tr>\n",
       "    <tr>\n",
       "      <th>14</th>\n",
       "      <td>0</td>\n",
       "      <td>age</td>\n",
       "      <td>76</td>\n",
       "    </tr>\n",
       "    <tr>\n",
       "      <th>15</th>\n",
       "      <td>0</td>\n",
       "      <td>age</td>\n",
       "      <td>64</td>\n",
       "    </tr>\n",
       "    <tr>\n",
       "      <th>16</th>\n",
       "      <td>0</td>\n",
       "      <td>age</td>\n",
       "      <td>78</td>\n",
       "    </tr>\n",
       "    <tr>\n",
       "      <th>17</th>\n",
       "      <td>0</td>\n",
       "      <td>age</td>\n",
       "      <td>53</td>\n",
       "    </tr>\n",
       "    <tr>\n",
       "      <th>18</th>\n",
       "      <td>0</td>\n",
       "      <td>age</td>\n",
       "      <td>43</td>\n",
       "    </tr>\n",
       "    <tr>\n",
       "      <th>19</th>\n",
       "      <td>0</td>\n",
       "      <td>age</td>\n",
       "      <td>25</td>\n",
       "    </tr>\n",
       "    <tr>\n",
       "      <th>20</th>\n",
       "      <td>0</td>\n",
       "      <td>age</td>\n",
       "      <td>43</td>\n",
       "    </tr>\n",
       "    <tr>\n",
       "      <th>21</th>\n",
       "      <td>1</td>\n",
       "      <td>age</td>\n",
       "      <td>38</td>\n",
       "    </tr>\n",
       "    <tr>\n",
       "      <th>22</th>\n",
       "      <td>0</td>\n",
       "      <td>age</td>\n",
       "      <td>39</td>\n",
       "    </tr>\n",
       "    <tr>\n",
       "      <th>23</th>\n",
       "      <td>0</td>\n",
       "      <td>age</td>\n",
       "      <td>32</td>\n",
       "    </tr>\n",
       "    <tr>\n",
       "      <th>24</th>\n",
       "      <td>0</td>\n",
       "      <td>age</td>\n",
       "      <td>58</td>\n",
       "    </tr>\n",
       "    <tr>\n",
       "      <th>25</th>\n",
       "      <td>1</td>\n",
       "      <td>age</td>\n",
       "      <td>50</td>\n",
       "    </tr>\n",
       "    <tr>\n",
       "      <th>26</th>\n",
       "      <td>0</td>\n",
       "      <td>age</td>\n",
       "      <td>58</td>\n",
       "    </tr>\n",
       "    <tr>\n",
       "      <th>27</th>\n",
       "      <td>0</td>\n",
       "      <td>age</td>\n",
       "      <td>69</td>\n",
       "    </tr>\n",
       "    <tr>\n",
       "      <th>28</th>\n",
       "      <td>0</td>\n",
       "      <td>age</td>\n",
       "      <td>24</td>\n",
       "    </tr>\n",
       "    <tr>\n",
       "      <th>29</th>\n",
       "      <td>0</td>\n",
       "      <td>age</td>\n",
       "      <td>58</td>\n",
       "    </tr>\n",
       "    <tr>\n",
       "      <th>...</th>\n",
       "      <td>...</td>\n",
       "      <td>...</td>\n",
       "      <td>...</td>\n",
       "    </tr>\n",
       "    <tr>\n",
       "      <th>149970</th>\n",
       "      <td>0</td>\n",
       "      <td>age</td>\n",
       "      <td>58</td>\n",
       "    </tr>\n",
       "    <tr>\n",
       "      <th>149971</th>\n",
       "      <td>0</td>\n",
       "      <td>age</td>\n",
       "      <td>83</td>\n",
       "    </tr>\n",
       "    <tr>\n",
       "      <th>149972</th>\n",
       "      <td>0</td>\n",
       "      <td>age</td>\n",
       "      <td>42</td>\n",
       "    </tr>\n",
       "    <tr>\n",
       "      <th>149973</th>\n",
       "      <td>0</td>\n",
       "      <td>age</td>\n",
       "      <td>44</td>\n",
       "    </tr>\n",
       "    <tr>\n",
       "      <th>149974</th>\n",
       "      <td>0</td>\n",
       "      <td>age</td>\n",
       "      <td>61</td>\n",
       "    </tr>\n",
       "    <tr>\n",
       "      <th>149975</th>\n",
       "      <td>0</td>\n",
       "      <td>age</td>\n",
       "      <td>58</td>\n",
       "    </tr>\n",
       "    <tr>\n",
       "      <th>149976</th>\n",
       "      <td>0</td>\n",
       "      <td>age</td>\n",
       "      <td>76</td>\n",
       "    </tr>\n",
       "    <tr>\n",
       "      <th>149977</th>\n",
       "      <td>0</td>\n",
       "      <td>age</td>\n",
       "      <td>29</td>\n",
       "    </tr>\n",
       "    <tr>\n",
       "      <th>149978</th>\n",
       "      <td>0</td>\n",
       "      <td>age</td>\n",
       "      <td>52</td>\n",
       "    </tr>\n",
       "    <tr>\n",
       "      <th>149979</th>\n",
       "      <td>1</td>\n",
       "      <td>age</td>\n",
       "      <td>55</td>\n",
       "    </tr>\n",
       "    <tr>\n",
       "      <th>149980</th>\n",
       "      <td>0</td>\n",
       "      <td>age</td>\n",
       "      <td>64</td>\n",
       "    </tr>\n",
       "    <tr>\n",
       "      <th>149981</th>\n",
       "      <td>0</td>\n",
       "      <td>age</td>\n",
       "      <td>43</td>\n",
       "    </tr>\n",
       "    <tr>\n",
       "      <th>149982</th>\n",
       "      <td>0</td>\n",
       "      <td>age</td>\n",
       "      <td>37</td>\n",
       "    </tr>\n",
       "    <tr>\n",
       "      <th>149983</th>\n",
       "      <td>0</td>\n",
       "      <td>age</td>\n",
       "      <td>82</td>\n",
       "    </tr>\n",
       "    <tr>\n",
       "      <th>149984</th>\n",
       "      <td>0</td>\n",
       "      <td>age</td>\n",
       "      <td>84</td>\n",
       "    </tr>\n",
       "    <tr>\n",
       "      <th>149985</th>\n",
       "      <td>0</td>\n",
       "      <td>age</td>\n",
       "      <td>26</td>\n",
       "    </tr>\n",
       "    <tr>\n",
       "      <th>149986</th>\n",
       "      <td>0</td>\n",
       "      <td>age</td>\n",
       "      <td>49</td>\n",
       "    </tr>\n",
       "    <tr>\n",
       "      <th>149987</th>\n",
       "      <td>0</td>\n",
       "      <td>age</td>\n",
       "      <td>28</td>\n",
       "    </tr>\n",
       "    <tr>\n",
       "      <th>149988</th>\n",
       "      <td>0</td>\n",
       "      <td>age</td>\n",
       "      <td>31</td>\n",
       "    </tr>\n",
       "    <tr>\n",
       "      <th>149989</th>\n",
       "      <td>0</td>\n",
       "      <td>age</td>\n",
       "      <td>62</td>\n",
       "    </tr>\n",
       "    <tr>\n",
       "      <th>149990</th>\n",
       "      <td>0</td>\n",
       "      <td>age</td>\n",
       "      <td>46</td>\n",
       "    </tr>\n",
       "    <tr>\n",
       "      <th>149991</th>\n",
       "      <td>0</td>\n",
       "      <td>age</td>\n",
       "      <td>59</td>\n",
       "    </tr>\n",
       "    <tr>\n",
       "      <th>149992</th>\n",
       "      <td>0</td>\n",
       "      <td>age</td>\n",
       "      <td>50</td>\n",
       "    </tr>\n",
       "    <tr>\n",
       "      <th>149993</th>\n",
       "      <td>0</td>\n",
       "      <td>age</td>\n",
       "      <td>22</td>\n",
       "    </tr>\n",
       "    <tr>\n",
       "      <th>149994</th>\n",
       "      <td>0</td>\n",
       "      <td>age</td>\n",
       "      <td>50</td>\n",
       "    </tr>\n",
       "    <tr>\n",
       "      <th>149995</th>\n",
       "      <td>0</td>\n",
       "      <td>age</td>\n",
       "      <td>74</td>\n",
       "    </tr>\n",
       "    <tr>\n",
       "      <th>149996</th>\n",
       "      <td>0</td>\n",
       "      <td>age</td>\n",
       "      <td>44</td>\n",
       "    </tr>\n",
       "    <tr>\n",
       "      <th>149997</th>\n",
       "      <td>0</td>\n",
       "      <td>age</td>\n",
       "      <td>58</td>\n",
       "    </tr>\n",
       "    <tr>\n",
       "      <th>149998</th>\n",
       "      <td>0</td>\n",
       "      <td>age</td>\n",
       "      <td>30</td>\n",
       "    </tr>\n",
       "    <tr>\n",
       "      <th>149999</th>\n",
       "      <td>0</td>\n",
       "      <td>age</td>\n",
       "      <td>64</td>\n",
       "    </tr>\n",
       "  </tbody>\n",
       "</table>\n",
       "<p>150000 rows × 3 columns</p>\n",
       "</div>"
      ],
      "text/plain": [
       "        serious_dlqin2yrs variable  value\n",
       "0                       1      age     45\n",
       "1                       0      age     40\n",
       "2                       0      age     38\n",
       "3                       0      age     30\n",
       "4                       0      age     49\n",
       "5                       0      age     74\n",
       "6                       0      age     57\n",
       "7                       0      age     39\n",
       "8                       0      age     27\n",
       "9                       0      age     57\n",
       "10                      0      age     30\n",
       "11                      0      age     51\n",
       "12                      0      age     46\n",
       "13                      1      age     40\n",
       "14                      0      age     76\n",
       "15                      0      age     64\n",
       "16                      0      age     78\n",
       "17                      0      age     53\n",
       "18                      0      age     43\n",
       "19                      0      age     25\n",
       "20                      0      age     43\n",
       "21                      1      age     38\n",
       "22                      0      age     39\n",
       "23                      0      age     32\n",
       "24                      0      age     58\n",
       "25                      1      age     50\n",
       "26                      0      age     58\n",
       "27                      0      age     69\n",
       "28                      0      age     24\n",
       "29                      0      age     58\n",
       "...                   ...      ...    ...\n",
       "149970                  0      age     58\n",
       "149971                  0      age     83\n",
       "149972                  0      age     42\n",
       "149973                  0      age     44\n",
       "149974                  0      age     61\n",
       "149975                  0      age     58\n",
       "149976                  0      age     76\n",
       "149977                  0      age     29\n",
       "149978                  0      age     52\n",
       "149979                  1      age     55\n",
       "149980                  0      age     64\n",
       "149981                  0      age     43\n",
       "149982                  0      age     37\n",
       "149983                  0      age     82\n",
       "149984                  0      age     84\n",
       "149985                  0      age     26\n",
       "149986                  0      age     49\n",
       "149987                  0      age     28\n",
       "149988                  0      age     31\n",
       "149989                  0      age     62\n",
       "149990                  0      age     46\n",
       "149991                  0      age     59\n",
       "149992                  0      age     50\n",
       "149993                  0      age     22\n",
       "149994                  0      age     50\n",
       "149995                  0      age     74\n",
       "149996                  0      age     44\n",
       "149997                  0      age     58\n",
       "149998                  0      age     30\n",
       "149999                  0      age     64\n",
       "\n",
       "[150000 rows x 3 columns]"
      ]
     },
     "execution_count": 51,
     "metadata": {},
     "output_type": "execute_result"
    }
   ],
   "source": [
    "melted"
   ]
  },
  {
   "cell_type": "markdown",
   "metadata": {},
   "source": [
    "## Chi-square test"
   ]
  },
  {
   "cell_type": "code",
   "execution_count": 62,
   "metadata": {
    "collapsed": false
   },
   "outputs": [
    {
     "data": {
      "text/plain": [
       "(354.47940373068514,\n",
       " 1.5913097676724319e-68,\n",
       " 12,\n",
       " array([[  8.47551902e+04,   6.07080984e+03],\n",
       "        [  2.45570386e+04,   1.75896144e+03],\n",
       "        [  1.82171495e+04,   1.30485048e+03],\n",
       "        [  8.84915628e+03,   6.33843720e+02],\n",
       "        [  2.67070392e+03,   1.91296080e+02],\n",
       "        [  6.96137360e+02,   4.98626400e+01],\n",
       "        [  1.47439280e+02,   1.05607200e+01],\n",
       "        [  4.75911600e+01,   3.40884000e+00],\n",
       "        [  2.23958400e+01,   1.60416000e+00],\n",
       "        [  4.66580000e+00,   3.34200000e-01],\n",
       "        [  4.66580000e+00,   3.34200000e-01],\n",
       "        [  9.33160000e-01,   6.68400000e-02],\n",
       "        [  9.33160000e-01,   6.68400000e-02]]))"
      ]
     },
     "execution_count": 62,
     "metadata": {},
     "output_type": "execute_result"
    }
   ],
   "source": [
    "from scipy.stats import chi2_contingency\n",
    "chi2_contingency(pd.crosstab(df['number_of_dependents'],df['serious_dlqin2yrs']))"
   ]
  },
  {
   "cell_type": "code",
   "execution_count": 63,
   "metadata": {
    "collapsed": true
   },
   "outputs": [],
   "source": [
    "import scipy.stats as scs\n",
    "\n",
    "def categories(series):\n",
    "    return range(int(series.min()), int(series.max()) + 1)\n",
    "\n",
    "\n",
    "def chi_square_of_df_cols(df, col1, col2):\n",
    "    df_col1, df_col2 = df[col1], df[col2]\n",
    "\n",
    "    result = [[sum((df_col1 == cat1) & (df_col2 == cat2))\n",
    "               for cat2 in categories(df_col2)]\n",
    "               for cat1 in categories(df_col1)]\n",
    "\n",
    "    return scs.chi2_contingency(result)\n",
    "\n"
   ]
  },
  {
   "cell_type": "code",
   "execution_count": 64,
   "metadata": {
    "collapsed": true
   },
   "outputs": [
    {
     "ename": "ValueError",
     "evalue": "The internally computed table of expected frequencies has a zero element at (11, 0).",
     "output_type": "error",
     "traceback": [
      "\u001b[0;31m---------------------------------------------------------------------------\u001b[0m",
      "\u001b[0;31mValueError\u001b[0m                                Traceback (most recent call last)",
      "\u001b[0;32m<ipython-input-64-d62279fc5ddd>\u001b[0m in \u001b[0;36m<module>\u001b[0;34m()\u001b[0m\n\u001b[0;32m----> 1\u001b[0;31m \u001b[0mprint\u001b[0m\u001b[1;33m(\u001b[0m\u001b[0mchi_square_of_df_cols\u001b[0m\u001b[1;33m(\u001b[0m\u001b[0mdf\u001b[0m\u001b[1;33m,\u001b[0m \u001b[1;34m'number_of_dependents'\u001b[0m\u001b[1;33m,\u001b[0m \u001b[1;34m'serious_dlqin2yrs'\u001b[0m\u001b[1;33m)\u001b[0m\u001b[1;33m)\u001b[0m\u001b[1;33m\u001b[0m\u001b[0m\n\u001b[0m",
      "\u001b[0;32m<ipython-input-63-d46b60cc5d4e>\u001b[0m in \u001b[0;36mchi_square_of_df_cols\u001b[0;34m(df, col1, col2)\u001b[0m\n\u001b[1;32m     12\u001b[0m                for cat1 in categories(df_col1)]\n\u001b[1;32m     13\u001b[0m \u001b[1;33m\u001b[0m\u001b[0m\n\u001b[0;32m---> 14\u001b[0;31m     \u001b[1;32mreturn\u001b[0m \u001b[0mscs\u001b[0m\u001b[1;33m.\u001b[0m\u001b[0mchi2_contingency\u001b[0m\u001b[1;33m(\u001b[0m\u001b[0mresult\u001b[0m\u001b[1;33m)\u001b[0m\u001b[1;33m\u001b[0m\u001b[0m\n\u001b[0m\u001b[1;32m     15\u001b[0m \u001b[1;33m\u001b[0m\u001b[0m\n",
      "\u001b[0;32mC:\\Users\\Sudipta\\Anaconda3\\lib\\site-packages\\scipy\\stats\\contingency.py\u001b[0m in \u001b[0;36mchi2_contingency\u001b[0;34m(observed, correction, lambda_)\u001b[0m\n\u001b[1;32m    251\u001b[0m         \u001b[0mzeropos\u001b[0m \u001b[1;33m=\u001b[0m \u001b[0mlist\u001b[0m\u001b[1;33m(\u001b[0m\u001b[0mzip\u001b[0m\u001b[1;33m(\u001b[0m\u001b[1;33m*\u001b[0m\u001b[0mnp\u001b[0m\u001b[1;33m.\u001b[0m\u001b[0mwhere\u001b[0m\u001b[1;33m(\u001b[0m\u001b[0mexpected\u001b[0m \u001b[1;33m==\u001b[0m \u001b[1;36m0\u001b[0m\u001b[1;33m)\u001b[0m\u001b[1;33m)\u001b[0m\u001b[1;33m)\u001b[0m\u001b[1;33m[\u001b[0m\u001b[1;36m0\u001b[0m\u001b[1;33m]\u001b[0m\u001b[1;33m\u001b[0m\u001b[0m\n\u001b[1;32m    252\u001b[0m         raise ValueError(\"The internally computed table of expected \"\n\u001b[0;32m--> 253\u001b[0;31m                          \"frequencies has a zero element at %s.\" % (zeropos,))\n\u001b[0m\u001b[1;32m    254\u001b[0m \u001b[1;33m\u001b[0m\u001b[0m\n\u001b[1;32m    255\u001b[0m     \u001b[1;31m# The degrees of freedom\u001b[0m\u001b[1;33m\u001b[0m\u001b[1;33m\u001b[0m\u001b[0m\n",
      "\u001b[0;31mValueError\u001b[0m: The internally computed table of expected frequencies has a zero element at (11, 0)."
     ]
    }
   ],
   "source": [
    "print(chi_square_of_df_cols(df, 'number_of_dependents', 'serious_dlqin2yrs'))"
   ]
  },
  {
   "cell_type": "markdown",
   "metadata": {},
   "source": [
    "## Imputation"
   ]
  },
  {
   "cell_type": "code",
   "execution_count": 65,
   "metadata": {
    "collapsed": true
   },
   "outputs": [],
   "source": [
    "from sklearn.neighbors import KNeighborsRegressor"
   ]
  },
  {
   "cell_type": "code",
   "execution_count": 70,
   "metadata": {
    "collapsed": true
   },
   "outputs": [],
   "source": [
    "income_imputer = KNeighborsRegressor(n_neighbors=1)"
   ]
  },
  {
   "cell_type": "code",
   "execution_count": 71,
   "metadata": {
    "collapsed": true
   },
   "outputs": [],
   "source": [
    "df_w_monthly_income = df[df['monthly_income'].isnull()== False]\n",
    "df_w_null_monthly_income = df[df['monthly_income'].isnull() ==True]"
   ]
  },
  {
   "cell_type": "code",
   "execution_count": 73,
   "metadata": {
    "collapsed": false
   },
   "outputs": [
    {
     "data": {
      "text/html": [
       "<div>\n",
       "<style>\n",
       "    .dataframe thead tr:only-child th {\n",
       "        text-align: right;\n",
       "    }\n",
       "\n",
       "    .dataframe thead th {\n",
       "        text-align: left;\n",
       "    }\n",
       "\n",
       "    .dataframe tbody tr th {\n",
       "        vertical-align: top;\n",
       "    }\n",
       "</style>\n",
       "<table border=\"1\" class=\"dataframe\">\n",
       "  <thead>\n",
       "    <tr style=\"text-align: right;\">\n",
       "      <th></th>\n",
       "      <th>unnamed: 0</th>\n",
       "      <th>serious_dlqin2yrs</th>\n",
       "      <th>revolving_utilization_of_unsecured_lines</th>\n",
       "      <th>age</th>\n",
       "      <th>number_of_time30-59_days_past_due_not_worse</th>\n",
       "      <th>debt_ratio</th>\n",
       "      <th>monthly_income</th>\n",
       "      <th>number_of_open_credit_lines_and_loans</th>\n",
       "      <th>number_of_times90_days_late</th>\n",
       "      <th>number_real_estate_loans_or_lines</th>\n",
       "      <th>number_of_time60-89_days_past_due_not_worse</th>\n",
       "      <th>number_of_dependents</th>\n",
       "    </tr>\n",
       "  </thead>\n",
       "  <tbody>\n",
       "    <tr>\n",
       "      <th>unnamed: 0</th>\n",
       "      <td>1.000000</td>\n",
       "      <td>0.004781</td>\n",
       "      <td>0.001787</td>\n",
       "      <td>0.005094</td>\n",
       "      <td>-0.001897</td>\n",
       "      <td>-0.002949</td>\n",
       "      <td>0.002632</td>\n",
       "      <td>0.003201</td>\n",
       "      <td>-0.002417</td>\n",
       "      <td>-0.000701</td>\n",
       "      <td>-0.002050</td>\n",
       "      <td>0.000170</td>\n",
       "    </tr>\n",
       "    <tr>\n",
       "      <th>serious_dlqin2yrs</th>\n",
       "      <td>0.004781</td>\n",
       "      <td>1.000000</td>\n",
       "      <td>-0.002386</td>\n",
       "      <td>-0.102685</td>\n",
       "      <td>0.123159</td>\n",
       "      <td>-0.003291</td>\n",
       "      <td>-0.019746</td>\n",
       "      <td>-0.027445</td>\n",
       "      <td>0.111149</td>\n",
       "      <td>-0.003005</td>\n",
       "      <td>0.093836</td>\n",
       "      <td>0.046704</td>\n",
       "    </tr>\n",
       "    <tr>\n",
       "      <th>revolving_utilization_of_unsecured_lines</th>\n",
       "      <td>0.001787</td>\n",
       "      <td>-0.002386</td>\n",
       "      <td>1.000000</td>\n",
       "      <td>-0.005476</td>\n",
       "      <td>-0.001194</td>\n",
       "      <td>-0.000243</td>\n",
       "      <td>0.007124</td>\n",
       "      <td>-0.010880</td>\n",
       "      <td>-0.000931</td>\n",
       "      <td>0.005895</td>\n",
       "      <td>-0.000955</td>\n",
       "      <td>0.002347</td>\n",
       "    </tr>\n",
       "    <tr>\n",
       "      <th>age</th>\n",
       "      <td>0.005094</td>\n",
       "      <td>-0.102685</td>\n",
       "      <td>-0.005476</td>\n",
       "      <td>1.000000</td>\n",
       "      <td>-0.049177</td>\n",
       "      <td>-0.001260</td>\n",
       "      <td>0.037717</td>\n",
       "      <td>0.187112</td>\n",
       "      <td>-0.047889</td>\n",
       "      <td>0.065110</td>\n",
       "      <td>-0.043501</td>\n",
       "      <td>-0.206397</td>\n",
       "    </tr>\n",
       "    <tr>\n",
       "      <th>number_of_time30-59_days_past_due_not_worse</th>\n",
       "      <td>-0.001897</td>\n",
       "      <td>0.123159</td>\n",
       "      <td>-0.001194</td>\n",
       "      <td>-0.049177</td>\n",
       "      <td>1.000000</td>\n",
       "      <td>-0.001981</td>\n",
       "      <td>-0.010217</td>\n",
       "      <td>-0.043868</td>\n",
       "      <td>0.975259</td>\n",
       "      <td>-0.024036</td>\n",
       "      <td>0.980131</td>\n",
       "      <td>0.003538</td>\n",
       "    </tr>\n",
       "    <tr>\n",
       "      <th>debt_ratio</th>\n",
       "      <td>-0.002949</td>\n",
       "      <td>-0.003291</td>\n",
       "      <td>-0.000243</td>\n",
       "      <td>-0.001260</td>\n",
       "      <td>-0.001981</td>\n",
       "      <td>1.000000</td>\n",
       "      <td>-0.028712</td>\n",
       "      <td>0.008685</td>\n",
       "      <td>-0.002703</td>\n",
       "      <td>0.019574</td>\n",
       "      <td>-0.001801</td>\n",
       "      <td>0.009803</td>\n",
       "    </tr>\n",
       "    <tr>\n",
       "      <th>monthly_income</th>\n",
       "      <td>0.002632</td>\n",
       "      <td>-0.019746</td>\n",
       "      <td>0.007124</td>\n",
       "      <td>0.037717</td>\n",
       "      <td>-0.010217</td>\n",
       "      <td>-0.028712</td>\n",
       "      <td>1.000000</td>\n",
       "      <td>0.091455</td>\n",
       "      <td>-0.012743</td>\n",
       "      <td>0.124959</td>\n",
       "      <td>-0.011116</td>\n",
       "      <td>0.062647</td>\n",
       "    </tr>\n",
       "    <tr>\n",
       "      <th>number_of_open_credit_lines_and_loans</th>\n",
       "      <td>0.003201</td>\n",
       "      <td>-0.027445</td>\n",
       "      <td>-0.010880</td>\n",
       "      <td>0.187112</td>\n",
       "      <td>-0.043868</td>\n",
       "      <td>0.008685</td>\n",
       "      <td>0.091455</td>\n",
       "      <td>1.000000</td>\n",
       "      <td>-0.072249</td>\n",
       "      <td>0.426536</td>\n",
       "      <td>-0.061505</td>\n",
       "      <td>0.038342</td>\n",
       "    </tr>\n",
       "    <tr>\n",
       "      <th>number_of_times90_days_late</th>\n",
       "      <td>-0.002417</td>\n",
       "      <td>0.111149</td>\n",
       "      <td>-0.000931</td>\n",
       "      <td>-0.047889</td>\n",
       "      <td>0.975259</td>\n",
       "      <td>-0.002703</td>\n",
       "      <td>-0.012743</td>\n",
       "      <td>-0.072249</td>\n",
       "      <td>1.000000</td>\n",
       "      <td>-0.040573</td>\n",
       "      <td>0.989277</td>\n",
       "      <td>-0.003779</td>\n",
       "    </tr>\n",
       "    <tr>\n",
       "      <th>number_real_estate_loans_or_lines</th>\n",
       "      <td>-0.000701</td>\n",
       "      <td>-0.003005</td>\n",
       "      <td>0.005895</td>\n",
       "      <td>0.065110</td>\n",
       "      <td>-0.024036</td>\n",
       "      <td>0.019574</td>\n",
       "      <td>0.124959</td>\n",
       "      <td>0.426536</td>\n",
       "      <td>-0.040573</td>\n",
       "      <td>1.000000</td>\n",
       "      <td>-0.034118</td>\n",
       "      <td>0.118997</td>\n",
       "    </tr>\n",
       "    <tr>\n",
       "      <th>number_of_time60-89_days_past_due_not_worse</th>\n",
       "      <td>-0.002050</td>\n",
       "      <td>0.093836</td>\n",
       "      <td>-0.000955</td>\n",
       "      <td>-0.043501</td>\n",
       "      <td>0.980131</td>\n",
       "      <td>-0.001801</td>\n",
       "      <td>-0.011116</td>\n",
       "      <td>-0.061505</td>\n",
       "      <td>0.989277</td>\n",
       "      <td>-0.034118</td>\n",
       "      <td>1.000000</td>\n",
       "      <td>-0.005092</td>\n",
       "    </tr>\n",
       "    <tr>\n",
       "      <th>number_of_dependents</th>\n",
       "      <td>0.000170</td>\n",
       "      <td>0.046704</td>\n",
       "      <td>0.002347</td>\n",
       "      <td>-0.206397</td>\n",
       "      <td>0.003538</td>\n",
       "      <td>0.009803</td>\n",
       "      <td>0.062647</td>\n",
       "      <td>0.038342</td>\n",
       "      <td>-0.003779</td>\n",
       "      <td>0.118997</td>\n",
       "      <td>-0.005092</td>\n",
       "      <td>1.000000</td>\n",
       "    </tr>\n",
       "  </tbody>\n",
       "</table>\n",
       "</div>"
      ],
      "text/plain": [
       "                                             unnamed: 0  serious_dlqin2yrs  \\\n",
       "unnamed: 0                                     1.000000           0.004781   \n",
       "serious_dlqin2yrs                              0.004781           1.000000   \n",
       "revolving_utilization_of_unsecured_lines       0.001787          -0.002386   \n",
       "age                                            0.005094          -0.102685   \n",
       "number_of_time30-59_days_past_due_not_worse   -0.001897           0.123159   \n",
       "debt_ratio                                    -0.002949          -0.003291   \n",
       "monthly_income                                 0.002632          -0.019746   \n",
       "number_of_open_credit_lines_and_loans          0.003201          -0.027445   \n",
       "number_of_times90_days_late                   -0.002417           0.111149   \n",
       "number_real_estate_loans_or_lines             -0.000701          -0.003005   \n",
       "number_of_time60-89_days_past_due_not_worse   -0.002050           0.093836   \n",
       "number_of_dependents                           0.000170           0.046704   \n",
       "\n",
       "                                             revolving_utilization_of_unsecured_lines  \\\n",
       "unnamed: 0                                                                   0.001787   \n",
       "serious_dlqin2yrs                                                           -0.002386   \n",
       "revolving_utilization_of_unsecured_lines                                     1.000000   \n",
       "age                                                                         -0.005476   \n",
       "number_of_time30-59_days_past_due_not_worse                                 -0.001194   \n",
       "debt_ratio                                                                  -0.000243   \n",
       "monthly_income                                                               0.007124   \n",
       "number_of_open_credit_lines_and_loans                                       -0.010880   \n",
       "number_of_times90_days_late                                                 -0.000931   \n",
       "number_real_estate_loans_or_lines                                            0.005895   \n",
       "number_of_time60-89_days_past_due_not_worse                                 -0.000955   \n",
       "number_of_dependents                                                         0.002347   \n",
       "\n",
       "                                                  age  \\\n",
       "unnamed: 0                                   0.005094   \n",
       "serious_dlqin2yrs                           -0.102685   \n",
       "revolving_utilization_of_unsecured_lines    -0.005476   \n",
       "age                                          1.000000   \n",
       "number_of_time30-59_days_past_due_not_worse -0.049177   \n",
       "debt_ratio                                  -0.001260   \n",
       "monthly_income                               0.037717   \n",
       "number_of_open_credit_lines_and_loans        0.187112   \n",
       "number_of_times90_days_late                 -0.047889   \n",
       "number_real_estate_loans_or_lines            0.065110   \n",
       "number_of_time60-89_days_past_due_not_worse -0.043501   \n",
       "number_of_dependents                        -0.206397   \n",
       "\n",
       "                                             number_of_time30-59_days_past_due_not_worse  \\\n",
       "unnamed: 0                                                                     -0.001897   \n",
       "serious_dlqin2yrs                                                               0.123159   \n",
       "revolving_utilization_of_unsecured_lines                                       -0.001194   \n",
       "age                                                                            -0.049177   \n",
       "number_of_time30-59_days_past_due_not_worse                                     1.000000   \n",
       "debt_ratio                                                                     -0.001981   \n",
       "monthly_income                                                                 -0.010217   \n",
       "number_of_open_credit_lines_and_loans                                          -0.043868   \n",
       "number_of_times90_days_late                                                     0.975259   \n",
       "number_real_estate_loans_or_lines                                              -0.024036   \n",
       "number_of_time60-89_days_past_due_not_worse                                     0.980131   \n",
       "number_of_dependents                                                            0.003538   \n",
       "\n",
       "                                             debt_ratio  monthly_income  \\\n",
       "unnamed: 0                                    -0.002949        0.002632   \n",
       "serious_dlqin2yrs                             -0.003291       -0.019746   \n",
       "revolving_utilization_of_unsecured_lines      -0.000243        0.007124   \n",
       "age                                           -0.001260        0.037717   \n",
       "number_of_time30-59_days_past_due_not_worse   -0.001981       -0.010217   \n",
       "debt_ratio                                     1.000000       -0.028712   \n",
       "monthly_income                                -0.028712        1.000000   \n",
       "number_of_open_credit_lines_and_loans          0.008685        0.091455   \n",
       "number_of_times90_days_late                   -0.002703       -0.012743   \n",
       "number_real_estate_loans_or_lines              0.019574        0.124959   \n",
       "number_of_time60-89_days_past_due_not_worse   -0.001801       -0.011116   \n",
       "number_of_dependents                           0.009803        0.062647   \n",
       "\n",
       "                                             number_of_open_credit_lines_and_loans  \\\n",
       "unnamed: 0                                                                0.003201   \n",
       "serious_dlqin2yrs                                                        -0.027445   \n",
       "revolving_utilization_of_unsecured_lines                                 -0.010880   \n",
       "age                                                                       0.187112   \n",
       "number_of_time30-59_days_past_due_not_worse                              -0.043868   \n",
       "debt_ratio                                                                0.008685   \n",
       "monthly_income                                                            0.091455   \n",
       "number_of_open_credit_lines_and_loans                                     1.000000   \n",
       "number_of_times90_days_late                                              -0.072249   \n",
       "number_real_estate_loans_or_lines                                         0.426536   \n",
       "number_of_time60-89_days_past_due_not_worse                              -0.061505   \n",
       "number_of_dependents                                                      0.038342   \n",
       "\n",
       "                                             number_of_times90_days_late  \\\n",
       "unnamed: 0                                                     -0.002417   \n",
       "serious_dlqin2yrs                                               0.111149   \n",
       "revolving_utilization_of_unsecured_lines                       -0.000931   \n",
       "age                                                            -0.047889   \n",
       "number_of_time30-59_days_past_due_not_worse                     0.975259   \n",
       "debt_ratio                                                     -0.002703   \n",
       "monthly_income                                                 -0.012743   \n",
       "number_of_open_credit_lines_and_loans                          -0.072249   \n",
       "number_of_times90_days_late                                     1.000000   \n",
       "number_real_estate_loans_or_lines                              -0.040573   \n",
       "number_of_time60-89_days_past_due_not_worse                     0.989277   \n",
       "number_of_dependents                                           -0.003779   \n",
       "\n",
       "                                             number_real_estate_loans_or_lines  \\\n",
       "unnamed: 0                                                           -0.000701   \n",
       "serious_dlqin2yrs                                                    -0.003005   \n",
       "revolving_utilization_of_unsecured_lines                              0.005895   \n",
       "age                                                                   0.065110   \n",
       "number_of_time30-59_days_past_due_not_worse                          -0.024036   \n",
       "debt_ratio                                                            0.019574   \n",
       "monthly_income                                                        0.124959   \n",
       "number_of_open_credit_lines_and_loans                                 0.426536   \n",
       "number_of_times90_days_late                                          -0.040573   \n",
       "number_real_estate_loans_or_lines                                     1.000000   \n",
       "number_of_time60-89_days_past_due_not_worse                          -0.034118   \n",
       "number_of_dependents                                                  0.118997   \n",
       "\n",
       "                                             number_of_time60-89_days_past_due_not_worse  \\\n",
       "unnamed: 0                                                                     -0.002050   \n",
       "serious_dlqin2yrs                                                               0.093836   \n",
       "revolving_utilization_of_unsecured_lines                                       -0.000955   \n",
       "age                                                                            -0.043501   \n",
       "number_of_time30-59_days_past_due_not_worse                                     0.980131   \n",
       "debt_ratio                                                                     -0.001801   \n",
       "monthly_income                                                                 -0.011116   \n",
       "number_of_open_credit_lines_and_loans                                          -0.061505   \n",
       "number_of_times90_days_late                                                     0.989277   \n",
       "number_real_estate_loans_or_lines                                              -0.034118   \n",
       "number_of_time60-89_days_past_due_not_worse                                     1.000000   \n",
       "number_of_dependents                                                           -0.005092   \n",
       "\n",
       "                                             number_of_dependents  \n",
       "unnamed: 0                                               0.000170  \n",
       "serious_dlqin2yrs                                        0.046704  \n",
       "revolving_utilization_of_unsecured_lines                 0.002347  \n",
       "age                                                     -0.206397  \n",
       "number_of_time30-59_days_past_due_not_worse              0.003538  \n",
       "debt_ratio                                               0.009803  \n",
       "monthly_income                                           0.062647  \n",
       "number_of_open_credit_lines_and_loans                    0.038342  \n",
       "number_of_times90_days_late                             -0.003779  \n",
       "number_real_estate_loans_or_lines                        0.118997  \n",
       "number_of_time60-89_days_past_due_not_worse             -0.005092  \n",
       "number_of_dependents                                     1.000000  "
      ]
     },
     "execution_count": 73,
     "metadata": {},
     "output_type": "execute_result"
    }
   ],
   "source": [
    "df_w_monthly_income.corr()"
   ]
  },
  {
   "cell_type": "code",
   "execution_count": 74,
   "metadata": {
    "collapsed": false
   },
   "outputs": [
    {
     "name": "stderr",
     "output_type": "stream",
     "text": [
      "C:\\Users\\Sudipta\\Anaconda3\\lib\\site-packages\\ipykernel\\__main__.py:1: DeprecationWarning: \n",
      ".ix is deprecated. Please use\n",
      ".loc for label based indexing or\n",
      ".iloc for positional indexing\n",
      "\n",
      "See the documentation here:\n",
      "http://pandas.pydata.org/pandas-docs/stable/indexing.html#ix-indexer-is-deprecated\n",
      "  if __name__ == '__main__':\n"
     ]
    },
    {
     "data": {
      "text/plain": [
       "unnamed: 0                                    -0.002949\n",
       "serious_dlqin2yrs                             -0.003291\n",
       "revolving_utilization_of_unsecured_lines      -0.000243\n",
       "age                                           -0.001260\n",
       "number_of_time30-59_days_past_due_not_worse   -0.001981\n",
       "debt_ratio                                     1.000000\n",
       "monthly_income                                -0.028712\n",
       "number_of_open_credit_lines_and_loans          0.008685\n",
       "number_of_times90_days_late                   -0.002703\n",
       "number_real_estate_loans_or_lines              0.019574\n",
       "number_of_time60-89_days_past_due_not_worse   -0.001801\n",
       "number_of_dependents                           0.009803\n",
       "Name: debt_ratio, dtype: float64"
      ]
     },
     "execution_count": 74,
     "metadata": {},
     "output_type": "execute_result"
    }
   ],
   "source": [
    "df_w_monthly_income.corr().ix[:,5]"
   ]
  },
  {
   "cell_type": "code",
   "execution_count": 75,
   "metadata": {
    "collapsed": false
   },
   "outputs": [
    {
     "data": {
      "text/plain": [
       "KNeighborsRegressor(algorithm='auto', leaf_size=30, metric='minkowski',\n",
       "          metric_params=None, n_jobs=1, n_neighbors=1, p=2,\n",
       "          weights='uniform')"
      ]
     },
     "execution_count": 75,
     "metadata": {},
     "output_type": "execute_result"
    }
   ],
   "source": [
    "cols = ['number_real_estate_loans_or_lines', 'number_of_open_credit_lines_and_loans']\n",
    "income_imputer.fit(df_w_monthly_income[cols], df_w_monthly_income.monthly_income)"
   ]
  },
  {
   "cell_type": "code",
   "execution_count": 76,
   "metadata": {
    "collapsed": true
   },
   "outputs": [],
   "source": [
    "new_values = income_imputer.predict(df_w_null_monthly_income[cols])"
   ]
  },
  {
   "cell_type": "code",
   "execution_count": 77,
   "metadata": {
    "collapsed": false
   },
   "outputs": [
    {
     "name": "stderr",
     "output_type": "stream",
     "text": [
      "C:\\Users\\Sudipta\\Anaconda3\\lib\\site-packages\\ipykernel\\__main__.py:1: SettingWithCopyWarning: \n",
      "A value is trying to be set on a copy of a slice from a DataFrame.\n",
      "Try using .loc[row_indexer,col_indexer] = value instead\n",
      "\n",
      "See the caveats in the documentation: http://pandas.pydata.org/pandas-docs/stable/indexing.html#indexing-view-versus-copy\n",
      "  if __name__ == '__main__':\n"
     ]
    }
   ],
   "source": [
    "df_w_null_monthly_income['monthly_income'] = new_values"
   ]
  },
  {
   "cell_type": "code",
   "execution_count": 106,
   "metadata": {
    "collapsed": false
   },
   "outputs": [],
   "source": [
    "df1 = df_w_null_monthly_income.append(df_w_monthly_income)"
   ]
  },
  {
   "cell_type": "code",
   "execution_count": 108,
   "metadata": {
    "collapsed": false
   },
   "outputs": [],
   "source": [
    "df['monthly_income'] = np.where(df['monthly_income'].isnull(), df1['monthly_income'],df['monthly_income'])"
   ]
  },
  {
   "cell_type": "code",
   "execution_count": 112,
   "metadata": {
    "collapsed": false
   },
   "outputs": [
    {
     "data": {
      "text/html": [
       "<div>\n",
       "<style>\n",
       "    .dataframe thead tr:only-child th {\n",
       "        text-align: right;\n",
       "    }\n",
       "\n",
       "    .dataframe thead th {\n",
       "        text-align: left;\n",
       "    }\n",
       "\n",
       "    .dataframe tbody tr th {\n",
       "        vertical-align: top;\n",
       "    }\n",
       "</style>\n",
       "<table border=\"1\" class=\"dataframe\">\n",
       "  <thead>\n",
       "    <tr style=\"text-align: right;\">\n",
       "      <th>value</th>\n",
       "      <th>False</th>\n",
       "      <th>True</th>\n",
       "    </tr>\n",
       "    <tr>\n",
       "      <th>variable</th>\n",
       "      <th></th>\n",
       "      <th></th>\n",
       "    </tr>\n",
       "  </thead>\n",
       "  <tbody>\n",
       "    <tr>\n",
       "      <th>age</th>\n",
       "      <td>150000</td>\n",
       "      <td>0</td>\n",
       "    </tr>\n",
       "    <tr>\n",
       "      <th>debt_ratio</th>\n",
       "      <td>150000</td>\n",
       "      <td>0</td>\n",
       "    </tr>\n",
       "    <tr>\n",
       "      <th>monthly_income</th>\n",
       "      <td>150000</td>\n",
       "      <td>0</td>\n",
       "    </tr>\n",
       "    <tr>\n",
       "      <th>number_of_dependents</th>\n",
       "      <td>146076</td>\n",
       "      <td>3924</td>\n",
       "    </tr>\n",
       "    <tr>\n",
       "      <th>number_of_open_credit_lines_and_loans</th>\n",
       "      <td>150000</td>\n",
       "      <td>0</td>\n",
       "    </tr>\n",
       "    <tr>\n",
       "      <th>number_of_time30-59_days_past_due_not_worse</th>\n",
       "      <td>150000</td>\n",
       "      <td>0</td>\n",
       "    </tr>\n",
       "    <tr>\n",
       "      <th>number_of_time60-89_days_past_due_not_worse</th>\n",
       "      <td>150000</td>\n",
       "      <td>0</td>\n",
       "    </tr>\n",
       "    <tr>\n",
       "      <th>number_of_times90_days_late</th>\n",
       "      <td>150000</td>\n",
       "      <td>0</td>\n",
       "    </tr>\n",
       "    <tr>\n",
       "      <th>number_real_estate_loans_or_lines</th>\n",
       "      <td>150000</td>\n",
       "      <td>0</td>\n",
       "    </tr>\n",
       "    <tr>\n",
       "      <th>revolving_utilization_of_unsecured_lines</th>\n",
       "      <td>150000</td>\n",
       "      <td>0</td>\n",
       "    </tr>\n",
       "    <tr>\n",
       "      <th>serious_dlqin2yrs</th>\n",
       "      <td>150000</td>\n",
       "      <td>0</td>\n",
       "    </tr>\n",
       "    <tr>\n",
       "      <th>unnamed: 0</th>\n",
       "      <td>150000</td>\n",
       "      <td>0</td>\n",
       "    </tr>\n",
       "  </tbody>\n",
       "</table>\n",
       "</div>"
      ],
      "text/plain": [
       "value                                         False  True \n",
       "variable                                                  \n",
       "age                                          150000      0\n",
       "debt_ratio                                   150000      0\n",
       "monthly_income                               150000      0\n",
       "number_of_dependents                         146076   3924\n",
       "number_of_open_credit_lines_and_loans        150000      0\n",
       "number_of_time30-59_days_past_due_not_worse  150000      0\n",
       "number_of_time60-89_days_past_due_not_worse  150000      0\n",
       "number_of_times90_days_late                  150000      0\n",
       "number_real_estate_loans_or_lines            150000      0\n",
       "revolving_utilization_of_unsecured_lines     150000      0\n",
       "serious_dlqin2yrs                            150000      0\n",
       "unnamed: 0                                   150000      0"
      ]
     },
     "execution_count": 112,
     "metadata": {},
     "output_type": "execute_result"
    }
   ],
   "source": [
    "print_null_freq(df)"
   ]
  },
  {
   "cell_type": "code",
   "execution_count": 111,
   "metadata": {
    "collapsed": true
   },
   "outputs": [],
   "source": [
    "def print_null_freq(df):\n",
    "    df_lng = pd.melt(df)\n",
    "    null_variables = df_lng.value.isnull()\n",
    "    return pd.crosstab(df_lng.variable,null_variables)"
   ]
  },
  {
   "cell_type": "markdown",
   "metadata": {},
   "source": [
    "## Handling for number of dependents"
   ]
  },
  {
   "cell_type": "code",
   "execution_count": 113,
   "metadata": {
    "collapsed": true
   },
   "outputs": [],
   "source": [
    "df_w_dependent = df[df['number_of_dependents'].isnull()== False]\n",
    "df_w_null_dependent = df[df['number_of_dependents'].isnull() ==True]"
   ]
  },
  {
   "cell_type": "code",
   "execution_count": 114,
   "metadata": {
    "collapsed": true
   },
   "outputs": [
    {
     "data": {
      "text/html": [
       "<div>\n",
       "<style>\n",
       "    .dataframe thead tr:only-child th {\n",
       "        text-align: right;\n",
       "    }\n",
       "\n",
       "    .dataframe thead th {\n",
       "        text-align: left;\n",
       "    }\n",
       "\n",
       "    .dataframe tbody tr th {\n",
       "        vertical-align: top;\n",
       "    }\n",
       "</style>\n",
       "<table border=\"1\" class=\"dataframe\">\n",
       "  <thead>\n",
       "    <tr style=\"text-align: right;\">\n",
       "      <th></th>\n",
       "      <th>unnamed: 0</th>\n",
       "      <th>serious_dlqin2yrs</th>\n",
       "      <th>revolving_utilization_of_unsecured_lines</th>\n",
       "      <th>age</th>\n",
       "      <th>number_of_time30-59_days_past_due_not_worse</th>\n",
       "      <th>debt_ratio</th>\n",
       "      <th>monthly_income</th>\n",
       "      <th>number_of_open_credit_lines_and_loans</th>\n",
       "      <th>number_of_times90_days_late</th>\n",
       "      <th>number_real_estate_loans_or_lines</th>\n",
       "      <th>number_of_time60-89_days_past_due_not_worse</th>\n",
       "      <th>number_of_dependents</th>\n",
       "    </tr>\n",
       "  </thead>\n",
       "  <tbody>\n",
       "    <tr>\n",
       "      <th>unnamed: 0</th>\n",
       "      <td>1.000000</td>\n",
       "      <td>0.002863</td>\n",
       "      <td>0.002250</td>\n",
       "      <td>0.005721</td>\n",
       "      <td>-0.000494</td>\n",
       "      <td>-0.003716</td>\n",
       "      <td>0.002588</td>\n",
       "      <td>0.004155</td>\n",
       "      <td>-0.001130</td>\n",
       "      <td>-0.001212</td>\n",
       "      <td>-0.000785</td>\n",
       "      <td>-0.000055</td>\n",
       "    </tr>\n",
       "    <tr>\n",
       "      <th>serious_dlqin2yrs</th>\n",
       "      <td>0.002863</td>\n",
       "      <td>1.000000</td>\n",
       "      <td>-0.001601</td>\n",
       "      <td>-0.113907</td>\n",
       "      <td>0.127084</td>\n",
       "      <td>-0.007747</td>\n",
       "      <td>-0.017511</td>\n",
       "      <td>-0.031478</td>\n",
       "      <td>0.118148</td>\n",
       "      <td>-0.008379</td>\n",
       "      <td>0.102397</td>\n",
       "      <td>0.046048</td>\n",
       "    </tr>\n",
       "    <tr>\n",
       "      <th>revolving_utilization_of_unsecured_lines</th>\n",
       "      <td>0.002250</td>\n",
       "      <td>-0.001601</td>\n",
       "      <td>1.000000</td>\n",
       "      <td>-0.005808</td>\n",
       "      <td>-0.001235</td>\n",
       "      <td>0.004059</td>\n",
       "      <td>0.005973</td>\n",
       "      <td>-0.011021</td>\n",
       "      <td>-0.000995</td>\n",
       "      <td>0.006633</td>\n",
       "      <td>-0.000987</td>\n",
       "      <td>0.001557</td>\n",
       "    </tr>\n",
       "    <tr>\n",
       "      <th>age</th>\n",
       "      <td>0.005721</td>\n",
       "      <td>-0.113907</td>\n",
       "      <td>-0.005808</td>\n",
       "      <td>1.000000</td>\n",
       "      <td>-0.057981</td>\n",
       "      <td>0.025773</td>\n",
       "      <td>0.033193</td>\n",
       "      <td>0.157961</td>\n",
       "      <td>-0.056152</td>\n",
       "      <td>0.041663</td>\n",
       "      <td>-0.052066</td>\n",
       "      <td>-0.213303</td>\n",
       "    </tr>\n",
       "    <tr>\n",
       "      <th>number_of_time30-59_days_past_due_not_worse</th>\n",
       "      <td>-0.000494</td>\n",
       "      <td>0.127084</td>\n",
       "      <td>-0.001235</td>\n",
       "      <td>-0.057981</td>\n",
       "      <td>1.000000</td>\n",
       "      <td>-0.006064</td>\n",
       "      <td>-0.007481</td>\n",
       "      <td>-0.052329</td>\n",
       "      <td>0.981770</td>\n",
       "      <td>-0.029059</td>\n",
       "      <td>0.985573</td>\n",
       "      <td>-0.002680</td>\n",
       "    </tr>\n",
       "    <tr>\n",
       "      <th>debt_ratio</th>\n",
       "      <td>-0.003716</td>\n",
       "      <td>-0.007747</td>\n",
       "      <td>0.004059</td>\n",
       "      <td>0.025773</td>\n",
       "      <td>-0.006064</td>\n",
       "      <td>1.000000</td>\n",
       "      <td>-0.006625</td>\n",
       "      <td>0.051044</td>\n",
       "      <td>-0.007972</td>\n",
       "      <td>0.116461</td>\n",
       "      <td>-0.007118</td>\n",
       "      <td>-0.040673</td>\n",
       "    </tr>\n",
       "    <tr>\n",
       "      <th>monthly_income</th>\n",
       "      <td>0.002588</td>\n",
       "      <td>-0.017511</td>\n",
       "      <td>0.005973</td>\n",
       "      <td>0.033193</td>\n",
       "      <td>-0.007481</td>\n",
       "      <td>-0.006625</td>\n",
       "      <td>1.000000</td>\n",
       "      <td>0.079701</td>\n",
       "      <td>-0.009432</td>\n",
       "      <td>0.110038</td>\n",
       "      <td>-0.008200</td>\n",
       "      <td>0.056673</td>\n",
       "    </tr>\n",
       "    <tr>\n",
       "      <th>number_of_open_credit_lines_and_loans</th>\n",
       "      <td>0.004155</td>\n",
       "      <td>-0.031478</td>\n",
       "      <td>-0.011021</td>\n",
       "      <td>0.157961</td>\n",
       "      <td>-0.052329</td>\n",
       "      <td>0.051044</td>\n",
       "      <td>0.079701</td>\n",
       "      <td>1.000000</td>\n",
       "      <td>-0.078079</td>\n",
       "      <td>0.430833</td>\n",
       "      <td>-0.068600</td>\n",
       "      <td>0.065322</td>\n",
       "    </tr>\n",
       "    <tr>\n",
       "      <th>number_of_times90_days_late</th>\n",
       "      <td>-0.001130</td>\n",
       "      <td>0.118148</td>\n",
       "      <td>-0.000995</td>\n",
       "      <td>-0.056152</td>\n",
       "      <td>0.981770</td>\n",
       "      <td>-0.007972</td>\n",
       "      <td>-0.009432</td>\n",
       "      <td>-0.078079</td>\n",
       "      <td>1.000000</td>\n",
       "      <td>-0.044271</td>\n",
       "      <td>0.991976</td>\n",
       "      <td>-0.010176</td>\n",
       "    </tr>\n",
       "    <tr>\n",
       "      <th>number_real_estate_loans_or_lines</th>\n",
       "      <td>-0.001212</td>\n",
       "      <td>-0.008379</td>\n",
       "      <td>0.006633</td>\n",
       "      <td>0.041663</td>\n",
       "      <td>-0.029059</td>\n",
       "      <td>0.116461</td>\n",
       "      <td>0.110038</td>\n",
       "      <td>0.430833</td>\n",
       "      <td>-0.044271</td>\n",
       "      <td>1.000000</td>\n",
       "      <td>-0.038429</td>\n",
       "      <td>0.124684</td>\n",
       "    </tr>\n",
       "    <tr>\n",
       "      <th>number_of_time60-89_days_past_due_not_worse</th>\n",
       "      <td>-0.000785</td>\n",
       "      <td>0.102397</td>\n",
       "      <td>-0.000987</td>\n",
       "      <td>-0.052066</td>\n",
       "      <td>0.985573</td>\n",
       "      <td>-0.007118</td>\n",
       "      <td>-0.008200</td>\n",
       "      <td>-0.068600</td>\n",
       "      <td>0.991976</td>\n",
       "      <td>-0.038429</td>\n",
       "      <td>1.000000</td>\n",
       "      <td>-0.010922</td>\n",
       "    </tr>\n",
       "    <tr>\n",
       "      <th>number_of_dependents</th>\n",
       "      <td>-0.000055</td>\n",
       "      <td>0.046048</td>\n",
       "      <td>0.001557</td>\n",
       "      <td>-0.213303</td>\n",
       "      <td>-0.002680</td>\n",
       "      <td>-0.040673</td>\n",
       "      <td>0.056673</td>\n",
       "      <td>0.065322</td>\n",
       "      <td>-0.010176</td>\n",
       "      <td>0.124684</td>\n",
       "      <td>-0.010922</td>\n",
       "      <td>1.000000</td>\n",
       "    </tr>\n",
       "  </tbody>\n",
       "</table>\n",
       "</div>"
      ],
      "text/plain": [
       "                                             unnamed: 0  serious_dlqin2yrs  \\\n",
       "unnamed: 0                                     1.000000           0.002863   \n",
       "serious_dlqin2yrs                              0.002863           1.000000   \n",
       "revolving_utilization_of_unsecured_lines       0.002250          -0.001601   \n",
       "age                                            0.005721          -0.113907   \n",
       "number_of_time30-59_days_past_due_not_worse   -0.000494           0.127084   \n",
       "debt_ratio                                    -0.003716          -0.007747   \n",
       "monthly_income                                 0.002588          -0.017511   \n",
       "number_of_open_credit_lines_and_loans          0.004155          -0.031478   \n",
       "number_of_times90_days_late                   -0.001130           0.118148   \n",
       "number_real_estate_loans_or_lines             -0.001212          -0.008379   \n",
       "number_of_time60-89_days_past_due_not_worse   -0.000785           0.102397   \n",
       "number_of_dependents                          -0.000055           0.046048   \n",
       "\n",
       "                                             revolving_utilization_of_unsecured_lines  \\\n",
       "unnamed: 0                                                                   0.002250   \n",
       "serious_dlqin2yrs                                                           -0.001601   \n",
       "revolving_utilization_of_unsecured_lines                                     1.000000   \n",
       "age                                                                         -0.005808   \n",
       "number_of_time30-59_days_past_due_not_worse                                 -0.001235   \n",
       "debt_ratio                                                                   0.004059   \n",
       "monthly_income                                                               0.005973   \n",
       "number_of_open_credit_lines_and_loans                                       -0.011021   \n",
       "number_of_times90_days_late                                                 -0.000995   \n",
       "number_real_estate_loans_or_lines                                            0.006633   \n",
       "number_of_time60-89_days_past_due_not_worse                                 -0.000987   \n",
       "number_of_dependents                                                         0.001557   \n",
       "\n",
       "                                                  age  \\\n",
       "unnamed: 0                                   0.005721   \n",
       "serious_dlqin2yrs                           -0.113907   \n",
       "revolving_utilization_of_unsecured_lines    -0.005808   \n",
       "age                                          1.000000   \n",
       "number_of_time30-59_days_past_due_not_worse -0.057981   \n",
       "debt_ratio                                   0.025773   \n",
       "monthly_income                               0.033193   \n",
       "number_of_open_credit_lines_and_loans        0.157961   \n",
       "number_of_times90_days_late                 -0.056152   \n",
       "number_real_estate_loans_or_lines            0.041663   \n",
       "number_of_time60-89_days_past_due_not_worse -0.052066   \n",
       "number_of_dependents                        -0.213303   \n",
       "\n",
       "                                             number_of_time30-59_days_past_due_not_worse  \\\n",
       "unnamed: 0                                                                     -0.000494   \n",
       "serious_dlqin2yrs                                                               0.127084   \n",
       "revolving_utilization_of_unsecured_lines                                       -0.001235   \n",
       "age                                                                            -0.057981   \n",
       "number_of_time30-59_days_past_due_not_worse                                     1.000000   \n",
       "debt_ratio                                                                     -0.006064   \n",
       "monthly_income                                                                 -0.007481   \n",
       "number_of_open_credit_lines_and_loans                                          -0.052329   \n",
       "number_of_times90_days_late                                                     0.981770   \n",
       "number_real_estate_loans_or_lines                                              -0.029059   \n",
       "number_of_time60-89_days_past_due_not_worse                                     0.985573   \n",
       "number_of_dependents                                                           -0.002680   \n",
       "\n",
       "                                             debt_ratio  monthly_income  \\\n",
       "unnamed: 0                                    -0.003716        0.002588   \n",
       "serious_dlqin2yrs                             -0.007747       -0.017511   \n",
       "revolving_utilization_of_unsecured_lines       0.004059        0.005973   \n",
       "age                                            0.025773        0.033193   \n",
       "number_of_time30-59_days_past_due_not_worse   -0.006064       -0.007481   \n",
       "debt_ratio                                     1.000000       -0.006625   \n",
       "monthly_income                                -0.006625        1.000000   \n",
       "number_of_open_credit_lines_and_loans          0.051044        0.079701   \n",
       "number_of_times90_days_late                   -0.007972       -0.009432   \n",
       "number_real_estate_loans_or_lines              0.116461        0.110038   \n",
       "number_of_time60-89_days_past_due_not_worse   -0.007118       -0.008200   \n",
       "number_of_dependents                          -0.040673        0.056673   \n",
       "\n",
       "                                             number_of_open_credit_lines_and_loans  \\\n",
       "unnamed: 0                                                                0.004155   \n",
       "serious_dlqin2yrs                                                        -0.031478   \n",
       "revolving_utilization_of_unsecured_lines                                 -0.011021   \n",
       "age                                                                       0.157961   \n",
       "number_of_time30-59_days_past_due_not_worse                              -0.052329   \n",
       "debt_ratio                                                                0.051044   \n",
       "monthly_income                                                            0.079701   \n",
       "number_of_open_credit_lines_and_loans                                     1.000000   \n",
       "number_of_times90_days_late                                              -0.078079   \n",
       "number_real_estate_loans_or_lines                                         0.430833   \n",
       "number_of_time60-89_days_past_due_not_worse                              -0.068600   \n",
       "number_of_dependents                                                      0.065322   \n",
       "\n",
       "                                             number_of_times90_days_late  \\\n",
       "unnamed: 0                                                     -0.001130   \n",
       "serious_dlqin2yrs                                               0.118148   \n",
       "revolving_utilization_of_unsecured_lines                       -0.000995   \n",
       "age                                                            -0.056152   \n",
       "number_of_time30-59_days_past_due_not_worse                     0.981770   \n",
       "debt_ratio                                                     -0.007972   \n",
       "monthly_income                                                 -0.009432   \n",
       "number_of_open_credit_lines_and_loans                          -0.078079   \n",
       "number_of_times90_days_late                                     1.000000   \n",
       "number_real_estate_loans_or_lines                              -0.044271   \n",
       "number_of_time60-89_days_past_due_not_worse                     0.991976   \n",
       "number_of_dependents                                           -0.010176   \n",
       "\n",
       "                                             number_real_estate_loans_or_lines  \\\n",
       "unnamed: 0                                                           -0.001212   \n",
       "serious_dlqin2yrs                                                    -0.008379   \n",
       "revolving_utilization_of_unsecured_lines                              0.006633   \n",
       "age                                                                   0.041663   \n",
       "number_of_time30-59_days_past_due_not_worse                          -0.029059   \n",
       "debt_ratio                                                            0.116461   \n",
       "monthly_income                                                        0.110038   \n",
       "number_of_open_credit_lines_and_loans                                 0.430833   \n",
       "number_of_times90_days_late                                          -0.044271   \n",
       "number_real_estate_loans_or_lines                                     1.000000   \n",
       "number_of_time60-89_days_past_due_not_worse                          -0.038429   \n",
       "number_of_dependents                                                  0.124684   \n",
       "\n",
       "                                             number_of_time60-89_days_past_due_not_worse  \\\n",
       "unnamed: 0                                                                     -0.000785   \n",
       "serious_dlqin2yrs                                                               0.102397   \n",
       "revolving_utilization_of_unsecured_lines                                       -0.000987   \n",
       "age                                                                            -0.052066   \n",
       "number_of_time30-59_days_past_due_not_worse                                     0.985573   \n",
       "debt_ratio                                                                     -0.007118   \n",
       "monthly_income                                                                 -0.008200   \n",
       "number_of_open_credit_lines_and_loans                                          -0.068600   \n",
       "number_of_times90_days_late                                                     0.991976   \n",
       "number_real_estate_loans_or_lines                                              -0.038429   \n",
       "number_of_time60-89_days_past_due_not_worse                                     1.000000   \n",
       "number_of_dependents                                                           -0.010922   \n",
       "\n",
       "                                             number_of_dependents  \n",
       "unnamed: 0                                              -0.000055  \n",
       "serious_dlqin2yrs                                        0.046048  \n",
       "revolving_utilization_of_unsecured_lines                 0.001557  \n",
       "age                                                     -0.213303  \n",
       "number_of_time30-59_days_past_due_not_worse             -0.002680  \n",
       "debt_ratio                                              -0.040673  \n",
       "monthly_income                                           0.056673  \n",
       "number_of_open_credit_lines_and_loans                    0.065322  \n",
       "number_of_times90_days_late                             -0.010176  \n",
       "number_real_estate_loans_or_lines                        0.124684  \n",
       "number_of_time60-89_days_past_due_not_worse             -0.010922  \n",
       "number_of_dependents                                     1.000000  "
      ]
     },
     "execution_count": 114,
     "metadata": {},
     "output_type": "execute_result"
    }
   ],
   "source": [
    "df_w_dependent.corr()"
   ]
  },
  {
   "cell_type": "code",
   "execution_count": 120,
   "metadata": {
    "collapsed": true
   },
   "outputs": [
    {
     "name": "stderr",
     "output_type": "stream",
     "text": [
      "C:\\Users\\Sudipta\\Anaconda3\\lib\\site-packages\\ipykernel\\__main__.py:1: DeprecationWarning: \n",
      ".ix is deprecated. Please use\n",
      ".loc for label based indexing or\n",
      ".iloc for positional indexing\n",
      "\n",
      "See the documentation here:\n",
      "http://pandas.pydata.org/pandas-docs/stable/indexing.html#ix-indexer-is-deprecated\n",
      "  if __name__ == '__main__':\n"
     ]
    },
    {
     "data": {
      "text/plain": [
       "unnamed: 0                                     0.000170\n",
       "serious_dlqin2yrs                              0.046704\n",
       "revolving_utilization_of_unsecured_lines       0.002347\n",
       "age                                           -0.206397\n",
       "number_of_time30-59_days_past_due_not_worse    0.003538\n",
       "debt_ratio                                     0.009803\n",
       "monthly_income                                 0.062647\n",
       "number_of_open_credit_lines_and_loans          0.038342\n",
       "number_of_times90_days_late                   -0.003779\n",
       "number_real_estate_loans_or_lines              0.118997\n",
       "number_of_time60-89_days_past_due_not_worse   -0.005092\n",
       "number_of_dependents                           1.000000\n",
       "Name: number_of_dependents, dtype: float64"
      ]
     },
     "execution_count": 120,
     "metadata": {},
     "output_type": "execute_result"
    }
   ],
   "source": [
    "df_w_monthly_income.corr().ix[:,11]"
   ]
  },
  {
   "cell_type": "code",
   "execution_count": 121,
   "metadata": {
    "collapsed": true
   },
   "outputs": [],
   "source": [
    "cols = ['number_real_estate_loans_or_lines','number_of_open_credit_lines_and_loans','monthly_income','serious_dlqin2yrs']"
   ]
  },
  {
   "cell_type": "code",
   "execution_count": 122,
   "metadata": {
    "collapsed": true
   },
   "outputs": [],
   "source": [
    "income_imputer2 = KNeighborsRegressor(n_neighbors=1)"
   ]
  },
  {
   "cell_type": "code",
   "execution_count": 123,
   "metadata": {
    "collapsed": false
   },
   "outputs": [
    {
     "data": {
      "text/plain": [
       "KNeighborsRegressor(algorithm='auto', leaf_size=30, metric='minkowski',\n",
       "          metric_params=None, n_jobs=1, n_neighbors=1, p=2,\n",
       "          weights='uniform')"
      ]
     },
     "execution_count": 123,
     "metadata": {},
     "output_type": "execute_result"
    }
   ],
   "source": [
    "income_imputer2.fit(df_w_dependent[cols], df_w_dependent.number_of_dependents)"
   ]
  },
  {
   "cell_type": "code",
   "execution_count": 124,
   "metadata": {
    "collapsed": true
   },
   "outputs": [],
   "source": [
    "new_values = income_imputer2.predict(df_w_null_dependent[cols])"
   ]
  },
  {
   "cell_type": "code",
   "execution_count": 125,
   "metadata": {
    "collapsed": false
   },
   "outputs": [
    {
     "name": "stderr",
     "output_type": "stream",
     "text": [
      "C:\\Users\\Sudipta\\Anaconda3\\lib\\site-packages\\ipykernel\\__main__.py:1: SettingWithCopyWarning: \n",
      "A value is trying to be set on a copy of a slice from a DataFrame.\n",
      "Try using .loc[row_indexer,col_indexer] = value instead\n",
      "\n",
      "See the caveats in the documentation: http://pandas.pydata.org/pandas-docs/stable/indexing.html#indexing-view-versus-copy\n",
      "  if __name__ == '__main__':\n"
     ]
    }
   ],
   "source": [
    "df_w_null_dependent['number_of_dependents'] = new_values"
   ]
  },
  {
   "cell_type": "code",
   "execution_count": 126,
   "metadata": {
    "collapsed": true
   },
   "outputs": [],
   "source": [
    "df1 = df_w_null_dependent.append(df_w_dependent)"
   ]
  },
  {
   "cell_type": "code",
   "execution_count": 128,
   "metadata": {
    "collapsed": true
   },
   "outputs": [],
   "source": [
    "df['number_of_dependents'] = np.where(df['number_of_dependents'].isnull(), df1['number_of_dependents'],df['number_of_dependents'])\n"
   ]
  },
  {
   "cell_type": "code",
   "execution_count": 129,
   "metadata": {
    "collapsed": false
   },
   "outputs": [
    {
     "data": {
      "text/html": [
       "<div>\n",
       "<style>\n",
       "    .dataframe thead tr:only-child th {\n",
       "        text-align: right;\n",
       "    }\n",
       "\n",
       "    .dataframe thead th {\n",
       "        text-align: left;\n",
       "    }\n",
       "\n",
       "    .dataframe tbody tr th {\n",
       "        vertical-align: top;\n",
       "    }\n",
       "</style>\n",
       "<table border=\"1\" class=\"dataframe\">\n",
       "  <thead>\n",
       "    <tr style=\"text-align: right;\">\n",
       "      <th>value</th>\n",
       "      <th>False</th>\n",
       "    </tr>\n",
       "    <tr>\n",
       "      <th>variable</th>\n",
       "      <th></th>\n",
       "    </tr>\n",
       "  </thead>\n",
       "  <tbody>\n",
       "    <tr>\n",
       "      <th>age</th>\n",
       "      <td>150000</td>\n",
       "    </tr>\n",
       "    <tr>\n",
       "      <th>debt_ratio</th>\n",
       "      <td>150000</td>\n",
       "    </tr>\n",
       "    <tr>\n",
       "      <th>monthly_income</th>\n",
       "      <td>150000</td>\n",
       "    </tr>\n",
       "    <tr>\n",
       "      <th>number_of_dependents</th>\n",
       "      <td>150000</td>\n",
       "    </tr>\n",
       "    <tr>\n",
       "      <th>number_of_open_credit_lines_and_loans</th>\n",
       "      <td>150000</td>\n",
       "    </tr>\n",
       "    <tr>\n",
       "      <th>number_of_time30-59_days_past_due_not_worse</th>\n",
       "      <td>150000</td>\n",
       "    </tr>\n",
       "    <tr>\n",
       "      <th>number_of_time60-89_days_past_due_not_worse</th>\n",
       "      <td>150000</td>\n",
       "    </tr>\n",
       "    <tr>\n",
       "      <th>number_of_times90_days_late</th>\n",
       "      <td>150000</td>\n",
       "    </tr>\n",
       "    <tr>\n",
       "      <th>number_real_estate_loans_or_lines</th>\n",
       "      <td>150000</td>\n",
       "    </tr>\n",
       "    <tr>\n",
       "      <th>revolving_utilization_of_unsecured_lines</th>\n",
       "      <td>150000</td>\n",
       "    </tr>\n",
       "    <tr>\n",
       "      <th>serious_dlqin2yrs</th>\n",
       "      <td>150000</td>\n",
       "    </tr>\n",
       "    <tr>\n",
       "      <th>unnamed: 0</th>\n",
       "      <td>150000</td>\n",
       "    </tr>\n",
       "  </tbody>\n",
       "</table>\n",
       "</div>"
      ],
      "text/plain": [
       "value                                         False\n",
       "variable                                           \n",
       "age                                          150000\n",
       "debt_ratio                                   150000\n",
       "monthly_income                               150000\n",
       "number_of_dependents                         150000\n",
       "number_of_open_credit_lines_and_loans        150000\n",
       "number_of_time30-59_days_past_due_not_worse  150000\n",
       "number_of_time60-89_days_past_due_not_worse  150000\n",
       "number_of_times90_days_late                  150000\n",
       "number_real_estate_loans_or_lines            150000\n",
       "revolving_utilization_of_unsecured_lines     150000\n",
       "serious_dlqin2yrs                            150000\n",
       "unnamed: 0                                   150000"
      ]
     },
     "execution_count": 129,
     "metadata": {},
     "output_type": "execute_result"
    }
   ],
   "source": [
    "print_null_freq(df)"
   ]
  },
  {
   "cell_type": "markdown",
   "metadata": {},
   "source": [
    "## Finding Important features"
   ]
  },
  {
   "cell_type": "code",
   "execution_count": 131,
   "metadata": {
    "collapsed": false
   },
   "outputs": [],
   "source": [
    "from sklearn.ensemble import RandomForestClassifier"
   ]
  },
  {
   "cell_type": "code",
   "execution_count": 132,
   "metadata": {
    "collapsed": true
   },
   "outputs": [],
   "source": [
    "features = np.array(['revolving_utilization_of_unsecured_lines',\n",
    "                     'age', 'number_of_time30-59_days_past_due_not_worse',\n",
    "                     'debt_ratio', 'monthly_income','number_of_open_credit_lines_and_loans', \n",
    "                     'number_of_times90_days_late', 'number_real_estate_loans_or_lines',\n",
    "                     'number_of_time60-89_days_past_due_not_worse', 'number_of_dependents'])"
   ]
  },
  {
   "cell_type": "code",
   "execution_count": 133,
   "metadata": {
    "collapsed": true
   },
   "outputs": [],
   "source": [
    "clf = RandomForestClassifier()"
   ]
  },
  {
   "cell_type": "code",
   "execution_count": 134,
   "metadata": {
    "collapsed": false
   },
   "outputs": [
    {
     "data": {
      "text/plain": [
       "RandomForestClassifier(bootstrap=True, class_weight=None, criterion='gini',\n",
       "            max_depth=None, max_features='auto', max_leaf_nodes=None,\n",
       "            min_samples_leaf=1, min_samples_split=2,\n",
       "            min_weight_fraction_leaf=0.0, n_estimators=10, n_jobs=1,\n",
       "            oob_score=False, random_state=None, verbose=0,\n",
       "            warm_start=False)"
      ]
     },
     "execution_count": 134,
     "metadata": {},
     "output_type": "execute_result"
    }
   ],
   "source": [
    "clf.fit(df[features], df['serious_dlqin2yrs'])"
   ]
  },
  {
   "cell_type": "code",
   "execution_count": 135,
   "metadata": {
    "collapsed": true
   },
   "outputs": [],
   "source": [
    "importances = clf.feature_importances_\n",
    "sorted_idx = np.argsort(importances)"
   ]
  },
  {
   "cell_type": "code",
   "execution_count": 136,
   "metadata": {
    "collapsed": false
   },
   "outputs": [
    {
     "data": {
      "text/plain": [
       "array([7, 8, 9, 2, 5, 6, 1, 4, 3, 0], dtype=int64)"
      ]
     },
     "execution_count": 136,
     "metadata": {},
     "output_type": "execute_result"
    }
   ],
   "source": [
    "sorted_idx"
   ]
  },
  {
   "cell_type": "code",
   "execution_count": 137,
   "metadata": {
    "collapsed": false
   },
   "outputs": [
    {
     "data": {
      "text/plain": [
       "array([ 0.19115198,  0.12296222,  0.05509852,  0.17478965,  0.16622742,\n",
       "        0.08520307,  0.09534149,  0.03240485,  0.0359235 ,  0.04089731])"
      ]
     },
     "execution_count": 137,
     "metadata": {},
     "output_type": "execute_result"
    }
   ],
   "source": [
    "importances"
   ]
  },
  {
   "cell_type": "code",
   "execution_count": 139,
   "metadata": {
    "collapsed": false
   },
   "outputs": [
    {
     "data": {
      "image/png": "[encoded data removed]",
      "text/plain": [
       "<Figure size 432x288 with 1 Axes>"
      ]
     },
     "metadata": {},
     "output_type": "display_data"
    }
   ],
   "source": [
    "padding = np.arange(len(features)) + 0.5\n",
    "plt.barh(padding, importances[sorted_idx], align='center')\n",
    "plt.yticks(padding, features[sorted_idx])\n",
    "plt.xlabel(\"Relative Importance\")\n",
    "plt.title(\"Variable Importance\")\n",
    "plt.show()"
   ]
  },
  {
   "cell_type": "markdown",
   "metadata": {},
   "source": [
    "## Bucketing continuous variables"
   ]
  },
  {
   "cell_type": "code",
   "execution_count": 144,
   "metadata": {
    "collapsed": false
   },
   "outputs": [
    {
     "data": {
      "text/plain": [
       "0.0          1987\n",
       "1.0           735\n",
       "2.0             7\n",
       "4.0             3\n",
       "5.0             3\n",
       "7.0             1\n",
       "9.0             1\n",
       "10.0            2\n",
       "11.0            1\n",
       "15.0            1\n",
       "21.0            1\n",
       "25.0            1\n",
       "27.0            2\n",
       "34.0            1\n",
       "40.0            3\n",
       "42.0            1\n",
       "50.0            5\n",
       "55.0            1\n",
       "56.0            1\n",
       "69.0            2\n",
       "70.0            2\n",
       "72.0            1\n",
       "75.0            2\n",
       "83.0            2\n",
       "84.0            1\n",
       "100.0          28\n",
       "101.0           1\n",
       "105.0           1\n",
       "107.0           2\n",
       "115.0           2\n",
       "             ... \n",
       "173000.0        2\n",
       "184903.0        1\n",
       "203500.0        1\n",
       "208333.0        1\n",
       "218674.0        1\n",
       "234600.0        1\n",
       "235000.0        1\n",
       "237400.0        1\n",
       "237490.0        1\n",
       "250000.0        2\n",
       "251608.0        2\n",
       "261666.0        1\n",
       "287662.0        2\n",
       "304000.0        1\n",
       "324000.0        1\n",
       "408333.0        2\n",
       "428250.0        1\n",
       "440000.0        1\n",
       "562466.0        1\n",
       "582369.0        1\n",
       "629000.0        1\n",
       "649587.0        1\n",
       "699530.0        2\n",
       "702500.0        1\n",
       "730483.0        2\n",
       "835040.0        1\n",
       "1072500.0       1\n",
       "1560100.0       1\n",
       "1794060.0       1\n",
       "3008750.0       1\n",
       "Name: monthly_income, Length: 13594, dtype: int64"
      ]
     },
     "execution_count": 144,
     "metadata": {},
     "output_type": "execute_result"
    }
   ],
   "source": [
    "df['monthly_income'].value_counts().sort_index()"
   ]
  },
  {
   "cell_type": "code",
   "execution_count": 147,
   "metadata": {
    "collapsed": false
   },
   "outputs": [
    {
     "data": {
      "text/plain": [
       "0     149966\n",
       "1         16\n",
       "3          7\n",
       "2          6\n",
       "14         1\n",
       "8          1\n",
       "7          1\n",
       "5          1\n",
       "4          1\n",
       "Name: income_bins, dtype: int64"
      ]
     },
     "execution_count": 147,
     "metadata": {},
     "output_type": "execute_result"
    }
   ],
   "source": [
    "df['income_bins'] = pd.cut(df.monthly_income, bins=15,labels = False)\n",
    "pd.value_counts(df['income_bins'])"
   ]
  },
  {
   "cell_type": "code",
   "execution_count": 149,
   "metadata": {
    "collapsed": true
   },
   "outputs": [],
   "source": [
    "## inspecting the predictive value of your bins"
   ]
  },
  {
   "cell_type": "code",
   "execution_count": 150,
   "metadata": {
    "collapsed": false
   },
   "outputs": [
    {
     "data": {
      "text/html": [
       "<div>\n",
       "<style>\n",
       "    .dataframe thead tr:only-child th {\n",
       "        text-align: right;\n",
       "    }\n",
       "\n",
       "    .dataframe thead th {\n",
       "        text-align: left;\n",
       "    }\n",
       "\n",
       "    .dataframe tbody tr th {\n",
       "        vertical-align: top;\n",
       "    }\n",
       "</style>\n",
       "<table border=\"1\" class=\"dataframe\">\n",
       "  <thead>\n",
       "    <tr style=\"text-align: right;\">\n",
       "      <th></th>\n",
       "      <th>serious_dlqin2yrs</th>\n",
       "    </tr>\n",
       "    <tr>\n",
       "      <th>income_bins</th>\n",
       "      <th></th>\n",
       "    </tr>\n",
       "  </thead>\n",
       "  <tbody>\n",
       "    <tr>\n",
       "      <th>0</th>\n",
       "      <td>0.066842</td>\n",
       "    </tr>\n",
       "    <tr>\n",
       "      <th>1</th>\n",
       "      <td>0.125000</td>\n",
       "    </tr>\n",
       "    <tr>\n",
       "      <th>2</th>\n",
       "      <td>0.000000</td>\n",
       "    </tr>\n",
       "    <tr>\n",
       "      <th>3</th>\n",
       "      <td>0.000000</td>\n",
       "    </tr>\n",
       "    <tr>\n",
       "      <th>4</th>\n",
       "      <td>0.000000</td>\n",
       "    </tr>\n",
       "    <tr>\n",
       "      <th>5</th>\n",
       "      <td>0.000000</td>\n",
       "    </tr>\n",
       "    <tr>\n",
       "      <th>7</th>\n",
       "      <td>0.000000</td>\n",
       "    </tr>\n",
       "    <tr>\n",
       "      <th>8</th>\n",
       "      <td>0.000000</td>\n",
       "    </tr>\n",
       "    <tr>\n",
       "      <th>14</th>\n",
       "      <td>0.000000</td>\n",
       "    </tr>\n",
       "  </tbody>\n",
       "</table>\n",
       "</div>"
      ],
      "text/plain": [
       "             serious_dlqin2yrs\n",
       "income_bins                   \n",
       "0                     0.066842\n",
       "1                     0.125000\n",
       "2                     0.000000\n",
       "3                     0.000000\n",
       "4                     0.000000\n",
       "5                     0.000000\n",
       "7                     0.000000\n",
       "8                     0.000000\n",
       "14                    0.000000"
      ]
     },
     "execution_count": 150,
     "metadata": {},
     "output_type": "execute_result"
    }
   ],
   "source": [
    "df[[\"income_bins\", \"serious_dlqin2yrs\"]].groupby(\"income_bins\").mean()"
   ]
  },
  {
   "cell_type": "code",
   "execution_count": 151,
   "metadata": {
    "collapsed": false
   },
   "outputs": [
    {
     "data": {
      "text/plain": [
       "<matplotlib.axes._subplots.AxesSubplot at 0x1cf000d3b38>"
      ]
     },
     "execution_count": 151,
     "metadata": {},
     "output_type": "execute_result"
    },
    {
     "data": {
      "image/png": "[encoded data removed]",
      "text/plain": [
       "<Figure size 432x288 with 1 Axes>"
      ]
     },
     "metadata": {},
     "output_type": "display_data"
    }
   ],
   "source": [
    "cols = [\"income_bins\", \"serious_dlqin2yrs\"]\n",
    "df[cols].groupby(\"income_bins\").mean().plot()"
   ]
  },
  {
   "cell_type": "code",
   "execution_count": 152,
   "metadata": {
    "collapsed": false
   },
   "outputs": [
    {
     "data": {
      "text/plain": [
       "<matplotlib.axes._subplots.AxesSubplot at 0x1cf01138cf8>"
      ]
     },
     "execution_count": 152,
     "metadata": {},
     "output_type": "execute_result"
    },
    {
     "data": {
      "image/png": "[encoded data removed]",
      "text/plain": [
       "<Figure size 432x288 with 1 Axes>"
      ]
     },
     "metadata": {},
     "output_type": "display_data"
    }
   ],
   "source": [
    "cols = ['age', 'serious_dlqin2yrs']\n",
    "age_means = df[cols].groupby(\"age\").mean()\n",
    "age_means.plot()"
   ]
  },
  {
   "cell_type": "code",
   "execution_count": 156,
   "metadata": {
    "collapsed": false
   },
   "outputs": [
    {
     "data": {
      "text/plain": [
       "(45, 50]     18829\n",
       "(50, 55]     17861\n",
       "(55, 60]     16945\n",
       "(60, 65]     16461\n",
       "(40, 45]     16208\n",
       "(35, 40]     13611\n",
       "(70, 80]     12700\n",
       "(65, 70]     10963\n",
       "(30, 35]     10728\n",
       "(25, 30]      7730\n",
       "(80, 120]     4936\n",
       "(20, 25]      3027\n",
       "(0, 20]          0\n",
       "Name: age_bucket, dtype: int64"
      ]
     },
     "execution_count": 156,
     "metadata": {},
     "output_type": "execute_result"
    }
   ],
   "source": [
    "mybins = [0,20,25,30,35,40,45,50,55,60,65,70,80,120]\n",
    "df['age_bucket'] = pd.cut(df.age, bins=mybins)\n",
    "df['age_bucket'].value_counts()"
   ]
  },
  {
   "cell_type": "code",
   "execution_count": 157,
   "metadata": {
    "collapsed": false
   },
   "outputs": [
    {
     "data": {
      "text/html": [
       "<div>\n",
       "<style>\n",
       "    .dataframe thead tr:only-child th {\n",
       "        text-align: right;\n",
       "    }\n",
       "\n",
       "    .dataframe thead th {\n",
       "        text-align: left;\n",
       "    }\n",
       "\n",
       "    .dataframe tbody tr th {\n",
       "        vertical-align: top;\n",
       "    }\n",
       "</style>\n",
       "<table border=\"1\" class=\"dataframe\">\n",
       "  <thead>\n",
       "    <tr style=\"text-align: right;\">\n",
       "      <th></th>\n",
       "      <th>serious_dlqin2yrs</th>\n",
       "    </tr>\n",
       "    <tr>\n",
       "      <th>age_bucket</th>\n",
       "      <th></th>\n",
       "    </tr>\n",
       "  </thead>\n",
       "  <tbody>\n",
       "    <tr>\n",
       "      <th>(0, 20]</th>\n",
       "      <td>0.000000</td>\n",
       "    </tr>\n",
       "    <tr>\n",
       "      <th>(20, 25]</th>\n",
       "      <td>0.111662</td>\n",
       "    </tr>\n",
       "    <tr>\n",
       "      <th>(25, 30]</th>\n",
       "      <td>0.117206</td>\n",
       "    </tr>\n",
       "    <tr>\n",
       "      <th>(30, 35]</th>\n",
       "      <td>0.106916</td>\n",
       "    </tr>\n",
       "    <tr>\n",
       "      <th>(35, 40]</th>\n",
       "      <td>0.091323</td>\n",
       "    </tr>\n",
       "    <tr>\n",
       "      <th>(40, 45]</th>\n",
       "      <td>0.085452</td>\n",
       "    </tr>\n",
       "    <tr>\n",
       "      <th>(45, 50]</th>\n",
       "      <td>0.080089</td>\n",
       "    </tr>\n",
       "    <tr>\n",
       "      <th>(50, 55]</th>\n",
       "      <td>0.071553</td>\n",
       "    </tr>\n",
       "    <tr>\n",
       "      <th>(55, 60]</th>\n",
       "      <td>0.051402</td>\n",
       "    </tr>\n",
       "    <tr>\n",
       "      <th>(60, 65]</th>\n",
       "      <td>0.040095</td>\n",
       "    </tr>\n",
       "    <tr>\n",
       "      <th>(65, 70]</th>\n",
       "      <td>0.026635</td>\n",
       "    </tr>\n",
       "    <tr>\n",
       "      <th>(70, 80]</th>\n",
       "      <td>0.023465</td>\n",
       "    </tr>\n",
       "    <tr>\n",
       "      <th>(80, 120]</th>\n",
       "      <td>0.020259</td>\n",
       "    </tr>\n",
       "  </tbody>\n",
       "</table>\n",
       "</div>"
      ],
      "text/plain": [
       "            serious_dlqin2yrs\n",
       "age_bucket                   \n",
       "(0, 20]              0.000000\n",
       "(20, 25]             0.111662\n",
       "(25, 30]             0.117206\n",
       "(30, 35]             0.106916\n",
       "(35, 40]             0.091323\n",
       "(40, 45]             0.085452\n",
       "(45, 50]             0.080089\n",
       "(50, 55]             0.071553\n",
       "(55, 60]             0.051402\n",
       "(60, 65]             0.040095\n",
       "(65, 70]             0.026635\n",
       "(70, 80]             0.023465\n",
       "(80, 120]            0.020259"
      ]
     },
     "execution_count": 157,
     "metadata": {},
     "output_type": "execute_result"
    }
   ],
   "source": [
    "df[[\"age_bucket\", \"serious_dlqin2yrs\"]].groupby(\"age_bucket\").mean().fillna(0)"
   ]
  },
  {
   "cell_type": "code",
   "execution_count": 158,
   "metadata": {
    "collapsed": false
   },
   "outputs": [
    {
     "data": {
      "text/plain": [
       "<matplotlib.axes._subplots.AxesSubplot at 0x1cf01187358>"
      ]
     },
     "execution_count": 158,
     "metadata": {},
     "output_type": "execute_result"
    },
    {
     "data": {
      "image/png": "[encoded data removed]",
      "text/plain": [
       "<Figure size 432x288 with 1 Axes>"
      ]
     },
     "metadata": {},
     "output_type": "display_data"
    }
   ],
   "source": [
    "df[[\"age_bucket\", \"serious_dlqin2yrs\"]].groupby(\"age_bucket\").mean().plot()"
   ]
  },
  {
   "cell_type": "code",
   "execution_count": 164,
   "metadata": {
    "collapsed": false
   },
   "outputs": [
    {
     "data": {
      "text/plain": [
       "0    0.802982\n",
       "1    0.121876\n",
       "2    0.085113\n",
       "3    0.036050\n",
       "4    0.024926\n",
       "Name: debt_ratio, dtype: float64"
      ]
     },
     "execution_count": 164,
     "metadata": {},
     "output_type": "execute_result"
    }
   ],
   "source": [
    "df.debt_ratio.head()"
   ]
  },
  {
   "cell_type": "code",
   "execution_count": 165,
   "metadata": {
    "collapsed": false
   },
   "outputs": [],
   "source": [
    "bins = []\n",
    "\n",
    "for q in [0.2, 0.4, 0.6, 0.8, 1.0]:\n",
    "    bins.append(df.debt_ratio.quantile(q))"
   ]
  },
  {
   "cell_type": "code",
   "execution_count": 166,
   "metadata": {
    "collapsed": false
   },
   "outputs": [
    {
     "data": {
      "text/plain": [
       "[0.1337728666, 0.28746027440000016, 0.467506417, 4.0, 329664.0]"
      ]
     },
     "execution_count": 166,
     "metadata": {},
     "output_type": "execute_result"
    }
   ],
   "source": [
    "bins"
   ]
  },
  {
   "cell_type": "code",
   "execution_count": 168,
   "metadata": {
    "collapsed": false
   },
   "outputs": [
    {
     "name": "stdout",
     "output_type": "stream",
     "text": [
      "(0.468, 4.0]       30109\n",
      "(0.287, 0.468]     30000\n",
      "(0.134, 0.287]     30000\n",
      "(4.0, 329664.0]    29891\n",
      "Name: debt_ratio, dtype: int64\n"
     ]
    }
   ],
   "source": [
    "debt_ratio_binned = pd.cut(df.debt_ratio, bins=bins)\n",
    "debt_ratio_binned\n",
    "print (pd.value_counts(debt_ratio_binned))"
   ]
  },
  {
   "cell_type": "markdown",
   "metadata": {},
   "source": [
    "## Scaling"
   ]
  },
  {
   "cell_type": "code",
   "execution_count": 170,
   "metadata": {
    "collapsed": false
   },
   "outputs": [
    {
     "name": "stderr",
     "output_type": "stream",
     "text": [
      "C:\\Users\\Sudipta\\Anaconda3\\lib\\site-packages\\sklearn\\preprocessing\\data.py:583: DeprecationWarning: Passing 1d arrays as data is deprecated in 0.17 and will raise ValueError in 0.19. Reshape your data either using X.reshape(-1, 1) if your data has a single feature or X.reshape(1, -1) if it contains a single sample.\n",
      "  warnings.warn(DEPRECATION_MSG_1D, DeprecationWarning)\n",
      "C:\\Users\\Sudipta\\Anaconda3\\lib\\site-packages\\sklearn\\preprocessing\\data.py:646: DeprecationWarning: Passing 1d arrays as data is deprecated in 0.17 and will raise ValueError in 0.19. Reshape your data either using X.reshape(-1, 1) if your data has a single feature or X.reshape(1, -1) if it contains a single sample.\n",
      "  warnings.warn(DEPRECATION_MSG_1D, DeprecationWarning)\n"
     ]
    }
   ],
   "source": [
    "from sklearn.preprocessing import StandardScaler\n",
    "\n",
    "df['monthly_income_scaled'] = StandardScaler().fit_transform(df.monthly_income)"
   ]
  },
  {
   "cell_type": "code",
   "execution_count": 173,
   "metadata": {
    "collapsed": false
   },
   "outputs": [
    {
     "data": {
      "text/html": [
       "<div>\n",
       "<style>\n",
       "    .dataframe thead tr:only-child th {\n",
       "        text-align: right;\n",
       "    }\n",
       "\n",
       "    .dataframe thead th {\n",
       "        text-align: left;\n",
       "    }\n",
       "\n",
       "    .dataframe tbody tr th {\n",
       "        vertical-align: top;\n",
       "    }\n",
       "</style>\n",
       "<table border=\"1\" class=\"dataframe\">\n",
       "  <thead>\n",
       "    <tr style=\"text-align: right;\">\n",
       "      <th></th>\n",
       "      <th>name</th>\n",
       "    </tr>\n",
       "  </thead>\n",
       "  <tbody>\n",
       "    <tr>\n",
       "      <th>0</th>\n",
       "      <td>revolving_utilization_of_unsecured_lines</td>\n",
       "    </tr>\n",
       "    <tr>\n",
       "      <th>1</th>\n",
       "      <td>debt_ratio</td>\n",
       "    </tr>\n",
       "    <tr>\n",
       "      <th>2</th>\n",
       "      <td>monthly_income</td>\n",
       "    </tr>\n",
       "    <tr>\n",
       "      <th>3</th>\n",
       "      <td>age</td>\n",
       "    </tr>\n",
       "    <tr>\n",
       "      <th>4</th>\n",
       "      <td>number_of_times90_days_late</td>\n",
       "    </tr>\n",
       "    <tr>\n",
       "      <th>5</th>\n",
       "      <td>number_of_open_credit_lines_and_loans</td>\n",
       "    </tr>\n",
       "    <tr>\n",
       "      <th>6</th>\n",
       "      <td>number_of_time30-59_days_past_due_not_worse</td>\n",
       "    </tr>\n",
       "    <tr>\n",
       "      <th>7</th>\n",
       "      <td>number_of_dependents</td>\n",
       "    </tr>\n",
       "    <tr>\n",
       "      <th>8</th>\n",
       "      <td>number_of_time60-89_days_past_due_not_worse</td>\n",
       "    </tr>\n",
       "    <tr>\n",
       "      <th>9</th>\n",
       "      <td>number_real_estate_loans_or_lines</td>\n",
       "    </tr>\n",
       "  </tbody>\n",
       "</table>\n",
       "</div>"
      ],
      "text/plain": [
       "                                          name\n",
       "0     revolving_utilization_of_unsecured_lines\n",
       "1                                   debt_ratio\n",
       "2                               monthly_income\n",
       "3                                          age\n",
       "4                  number_of_times90_days_late\n",
       "5        number_of_open_credit_lines_and_loans\n",
       "6  number_of_time30-59_days_past_due_not_worse\n",
       "7                         number_of_dependents\n",
       "8  number_of_time60-89_days_past_due_not_worse\n",
       "9            number_real_estate_loans_or_lines"
      ]
     },
     "execution_count": 173,
     "metadata": {},
     "output_type": "execute_result"
    }
   ],
   "source": [
    "best_features = features[sorted_idx][::-1]\n",
    "pd.DataFrame({ \"name\": best_features })"
   ]
  },
  {
   "cell_type": "markdown",
   "metadata": {},
   "source": [
    "## Model"
   ]
  },
  {
   "cell_type": "code",
   "execution_count": 175,
   "metadata": {
    "collapsed": true
   },
   "outputs": [],
   "source": [
    "from sklearn.linear_model import LogisticRegression\n",
    "from sklearn.neighbors import KNeighborsClassifier\n",
    "from sklearn.ensemble import RandomForestClassifier, GradientBoostingClassifier\n",
    "from sklearn.svm import SVC"
   ]
  },
  {
   "cell_type": "code",
   "execution_count": 177,
   "metadata": {
    "collapsed": false
   },
   "outputs": [
    {
     "data": {
      "text/plain": [
       "Index(['unnamed: 0', 'serious_dlqin2yrs',\n",
       "       'revolving_utilization_of_unsecured_lines', 'age',\n",
       "       'number_of_time30-59_days_past_due_not_worse', 'debt_ratio',\n",
       "       'monthly_income', 'number_of_open_credit_lines_and_loans',\n",
       "       'number_of_times90_days_late', 'number_real_estate_loans_or_lines',\n",
       "       'number_of_time60-89_days_past_due_not_worse', 'number_of_dependents',\n",
       "       'income_bins', 'age_bucket', 'monthly_income_scaled'],\n",
       "      dtype='object')"
      ]
     },
     "execution_count": 177,
     "metadata": {},
     "output_type": "execute_result"
    }
   ],
   "source": [
    "df.columns"
   ]
  },
  {
   "cell_type": "code",
   "execution_count": 181,
   "metadata": {
    "collapsed": false
   },
   "outputs": [
    {
     "name": "stdout",
     "output_type": "stream",
     "text": [
      "(120000, 14)\n",
      "(30000, 14)\n",
      "(120000,)\n",
      "(30000,)\n"
     ]
    }
   ],
   "source": [
    "X_train, X_test, Y_train, Y_test = splitTrainTest(df,'serious_dlqin2yrs')"
   ]
  },
  {
   "cell_type": "code",
   "execution_count": 182,
   "metadata": {
    "collapsed": false
   },
   "outputs": [
    {
     "data": {
      "text/plain": [
       "KNeighborsClassifier(algorithm='auto', leaf_size=30, metric='minkowski',\n",
       "           metric_params=None, n_jobs=1, n_neighbors=13, p=2,\n",
       "           weights='uniform')"
      ]
     },
     "execution_count": 182,
     "metadata": {},
     "output_type": "execute_result"
    }
   ],
   "source": [
    "features = ['revolving_utilization_of_unsecured_lines', 'debt_ratio',\n",
    "            'monthly_income', 'age', 'number_of_times90_days_late']\n",
    "\n",
    "clf = KNeighborsClassifier(n_neighbors=13)\n",
    "clf.fit(X_train[features], Y_train)"
   ]
  },
  {
   "cell_type": "code",
   "execution_count": 183,
   "metadata": {
    "collapsed": false
   },
   "outputs": [
    {
     "data": {
      "text/plain": [
       "array([0, 0, 0, ..., 0, 0, 0], dtype=int64)"
      ]
     },
     "execution_count": 183,
     "metadata": {},
     "output_type": "execute_result"
    }
   ],
   "source": [
    "clf.predict(X_test[features])"
   ]
  },
  {
   "cell_type": "code",
   "execution_count": 185,
   "metadata": {
    "collapsed": false
   },
   "outputs": [
    {
     "data": {
      "text/plain": [
       "array([[ 0.92307692,  0.07692308],\n",
       "       [ 1.        ,  0.        ],\n",
       "       [ 0.92307692,  0.07692308],\n",
       "       ..., \n",
       "       [ 1.        ,  0.        ],\n",
       "       [ 1.        ,  0.        ],\n",
       "       [ 0.92307692,  0.07692308]])"
      ]
     },
     "execution_count": 185,
     "metadata": {},
     "output_type": "execute_result"
    }
   ],
   "source": [
    "clf.predict_proba(X_test[features])"
   ]
  },
  {
   "cell_type": "code",
   "execution_count": 195,
   "metadata": {
    "collapsed": false
   },
   "outputs": [
    {
     "data": {
      "text/plain": [
       "(array([  2.47830000e+04,   3.68600000e+03,   1.10000000e+03,\n",
       "          2.92000000e+02,   8.70000000e+01,   2.50000000e+01,\n",
       "          1.30000000e+01,   8.00000000e+00,   3.00000000e+00,\n",
       "          3.00000000e+00]),\n",
       " array([ 0.        ,  0.08461538,  0.16923077,  0.25384615,  0.33846154,\n",
       "         0.42307692,  0.50769231,  0.59230769,  0.67692308,  0.76153846,\n",
       "         0.84615385]),\n",
       " <a list of 10 Patch objects>)"
      ]
     },
     "execution_count": 195,
     "metadata": {},
     "output_type": "execute_result"
    },
    {
     "data": {
      "image/png": "[encoded data removed]",
      "text/plain": [
       "<Figure size 432x288 with 1 Axes>"
      ]
     },
     "metadata": {},
     "output_type": "display_data"
    }
   ],
   "source": [
    "probs = clf.predict_proba(X_test[features])\n",
    "prob_true = probs[::,1]\n",
    "plt.hist(prob_true)"
   ]
  },
  {
   "cell_type": "markdown",
   "metadata": {},
   "source": [
    "## Model evaluation"
   ]
  },
  {
   "cell_type": "code",
   "execution_count": 196,
   "metadata": {
    "collapsed": true
   },
   "outputs": [],
   "source": [
    "from sklearn.metrics import roc_curve, auc, classification_report, confusion_matrix"
   ]
  },
  {
   "cell_type": "code",
   "execution_count": 197,
   "metadata": {
    "collapsed": false
   },
   "outputs": [
    {
     "data": {
      "text/plain": [
       "array([[ 0.92307692,  0.07692308],\n",
       "       [ 1.        ,  0.        ],\n",
       "       [ 0.92307692,  0.07692308],\n",
       "       ..., \n",
       "       [ 1.        ,  0.        ],\n",
       "       [ 1.        ,  0.        ],\n",
       "       [ 0.92307692,  0.07692308]])"
      ]
     },
     "execution_count": 197,
     "metadata": {},
     "output_type": "execute_result"
    }
   ],
   "source": [
    "preds = clf.predict_proba(X_test[features])\n",
    "preds"
   ]
  },
  {
   "cell_type": "code",
   "execution_count": 198,
   "metadata": {
    "collapsed": false
   },
   "outputs": [
    {
     "data": {
      "text/plain": [
       "array([[27945,    11],\n",
       "       [ 2028,    16]])"
      ]
     },
     "execution_count": 198,
     "metadata": {},
     "output_type": "execute_result"
    }
   ],
   "source": [
    "confusion_matrix(Y_test, clf.predict(X_test[features]))"
   ]
  },
  {
   "cell_type": "code",
   "execution_count": 199,
   "metadata": {
    "collapsed": false
   },
   "outputs": [
    {
     "data": {
      "text/html": [
       "<div>\n",
       "<style>\n",
       "    .dataframe thead tr:only-child th {\n",
       "        text-align: right;\n",
       "    }\n",
       "\n",
       "    .dataframe thead th {\n",
       "        text-align: left;\n",
       "    }\n",
       "\n",
       "    .dataframe tbody tr th {\n",
       "        vertical-align: top;\n",
       "    }\n",
       "</style>\n",
       "<table border=\"1\" class=\"dataframe\">\n",
       "  <thead>\n",
       "    <tr style=\"text-align: right;\">\n",
       "      <th>Predicted</th>\n",
       "      <th>0</th>\n",
       "      <th>1</th>\n",
       "    </tr>\n",
       "    <tr>\n",
       "      <th>Actual</th>\n",
       "      <th></th>\n",
       "      <th></th>\n",
       "    </tr>\n",
       "  </thead>\n",
       "  <tbody>\n",
       "    <tr>\n",
       "      <th>0</th>\n",
       "      <td>27945</td>\n",
       "      <td>11</td>\n",
       "    </tr>\n",
       "    <tr>\n",
       "      <th>1</th>\n",
       "      <td>2028</td>\n",
       "      <td>16</td>\n",
       "    </tr>\n",
       "  </tbody>\n",
       "</table>\n",
       "</div>"
      ],
      "text/plain": [
       "Predicted      0   1\n",
       "Actual              \n",
       "0          27945  11\n",
       "1           2028  16"
      ]
     },
     "execution_count": 199,
     "metadata": {},
     "output_type": "execute_result"
    }
   ],
   "source": [
    "pd.crosstab(Y_test, clf.predict(X_test[features]), rownames=[\"Actual\"], colnames=[\"Predicted\"])"
   ]
  },
  {
   "cell_type": "code",
   "execution_count": 201,
   "metadata": {
    "collapsed": false
   },
   "outputs": [
    {
     "name": "stdout",
     "output_type": "stream",
     "text": [
      "             precision    recall  f1-score   support\n",
      "\n",
      "          0       0.93      1.00      0.96     27956\n",
      "          1       0.59      0.01      0.02      2044\n",
      "\n",
      "avg / total       0.91      0.93      0.90     30000\n",
      "\n"
     ]
    }
   ],
   "source": [
    "print( classification_report(Y_test, clf.predict(X_test[features]), labels=[0, 1]))"
   ]
  },
  {
   "cell_type": "code",
   "execution_count": 202,
   "metadata": {
    "collapsed": false
   },
   "outputs": [
    {
     "data": {
      "image/png": "[encoded data removed]",
      "text/plain": [
       "<Figure size 432x288 with 1 Axes>"
      ]
     },
     "metadata": {},
     "output_type": "display_data"
    },
    {
     "data": {
      "image/png": "[encoded data removed]",
      "text/plain": [
       "<Figure size 432x288 with 1 Axes>"
      ]
     },
     "metadata": {},
     "output_type": "display_data"
    },
    {
     "data": {
      "image/png": "[encoded data removed]",
      "text/plain": [
       "<Figure size 432x288 with 1 Axes>"
      ]
     },
     "metadata": {},
     "output_type": "display_data"
    }
   ],
   "source": [
    "def plot_roc(name, probs):\n",
    "    fpr, tpr, thresholds = roc_curve(Y_test, probs)\n",
    "    roc_auc = auc(fpr, tpr)\n",
    "    plt.clf()\n",
    "    plt.plot(fpr, tpr, label='ROC curve (area = %0.2f)' % roc_auc)\n",
    "    plt.plot([0, 1], [0, 1], 'k--')\n",
    "    plt.xlim([0.0, 1.05])\n",
    "    plt.ylim([0.0, 1.05])\n",
    "    plt.xlabel('False Positive Rate')\n",
    "    plt.ylabel('True Positive Rate')\n",
    "    plt.title(name)\n",
    "    plt.legend(loc=\"lower right\")\n",
    "    plt.show()\n",
    "plot_roc(\"Perfect Classifier\", Y_test)\n",
    "plot_roc(\"Guessing\", np.random.uniform(0, 1, len(Y_test)))\n",
    "\n",
    "#[::,1] selects the 2nd column of the numpy array\n",
    "plot_roc(\"KNN\", preds[::,1])"
   ]
  },
  {
   "cell_type": "code",
   "execution_count": null,
   "metadata": {
    "collapsed": true
   },
   "outputs": [],
   "source": []
  },
  {
   "cell_type": "code",
   "execution_count": 203,
   "metadata": {
    "collapsed": false
   },
   "outputs": [
    {
     "name": "stderr",
     "output_type": "stream",
     "text": [
      "C:\\Users\\Sudipta\\Anaconda3\\lib\\site-packages\\ipykernel\\__main__.py:8: RuntimeWarning: divide by zero encountered in true_divide\n",
      "C:\\Users\\Sudipta\\Anaconda3\\lib\\site-packages\\ipykernel\\__main__.py:9: RuntimeWarning: divide by zero encountered in log\n"
     ]
    },
    {
     "data": {
      "text/plain": [
       "array([[        196,         483],\n",
       "       [-2147483648, -2147483648],\n",
       "       [        196,         483],\n",
       "       ..., \n",
       "       [-2147483648, -2147483648],\n",
       "       [-2147483648, -2147483648],\n",
       "       [        196,         483]])"
      ]
     },
     "execution_count": 203,
     "metadata": {},
     "output_type": "execute_result"
    }
   ],
   "source": [
    "def convert_prob_to_score(p):\n",
    "    \"\"\"\n",
    "    takes a probability and converts it to a score\n",
    "    Example:\n",
    "        convert_prob_to_score(0.1)\n",
    "        466\n",
    "    \"\"\"\n",
    "    odds = (1 - p) / p\n",
    "    scores = np.log(odds)*(40/np.log(2)) + 340\n",
    "    return scores.astype(np.int)\n",
    "\n",
    "convert_prob_to_score(probs)"
   ]
  },
  {
   "cell_type": "code",
   "execution_count": 179,
   "metadata": {
    "collapsed": true
   },
   "outputs": [],
   "source": [
    "def splitTrainTest(df,targetVariable):\n",
    "    x = df.drop(targetVariable, axis = 1)\n",
    "    y = df[targetVariable]\n",
    "    X_train, X_test, Y_train, Y_test =  train_test_split(x, y, test_size = 0.2, random_state = 5)\n",
    "    print(X_train.shape)\n",
    "    print(X_test.shape)\n",
    "    print(Y_train.shape)\n",
    "    print(Y_test.shape)\n",
    "    return X_train, X_test, Y_train, Y_test"
   ]
  },
  {
   "cell_type": "code",
   "execution_count": null,
   "metadata": {
    "collapsed": true
   },
   "outputs": [],
   "source": []
  }
 ],
 "metadata": {
  "anaconda-cloud": {},
  "kernelspec": {
   "display_name": "Python [default]",
   "language": "python",
   "name": "python3"
  },
  "language_info": {
   "codemirror_mode": {
    "name": "ipython",
    "version": 3
   },
   "file_extension": ".py",
   "mimetype": "text/x-python",
   "name": "python",
   "nbconvert_exporter": "python",
   "pygments_lexer": "ipython3",
   "version": "3.5.5"
  }
 },
 "nbformat": 4,
 "nbformat_minor": 1
}
